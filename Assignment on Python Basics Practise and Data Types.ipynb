{
 "cells": [
  {
   "cell_type": "code",
   "execution_count": 1,
   "id": "9a65ead8-9730-43ed-9d1e-dfce4aeb37f4",
   "metadata": {},
   "outputs": [
    {
     "data": {
      "text/plain": [
       "'\\n\\nWrite a program to reverse a string.\\n\\n'"
      ]
     },
     "execution_count": 1,
     "metadata": {},
     "output_type": "execute_result"
    }
   ],
   "source": [
    "\"\"\"\n",
    "\n",
    "Write a program to reverse a string.\n",
    "\n",
    "\"\"\"\n"
   ]
  },
  {
   "cell_type": "code",
   "execution_count": 4,
   "id": "bae8364f-2100-4f9e-9a54-c34386d0e098",
   "metadata": {},
   "outputs": [
    {
     "name": "stdin",
     "output_type": "stream",
     "text": [
      "Enter the string Amit Bahedia\n"
     ]
    },
    {
     "name": "stdout",
     "output_type": "stream",
     "text": [
      "The reverse string is  aidehaB timA\n"
     ]
    }
   ],
   "source": [
    "New_String = input(\"Enter the string\")\n",
    "Reverse_String = New_String[::-1]\n",
    "print(\"The reverse string is \" , Reverse_String)"
   ]
  },
  {
   "cell_type": "code",
   "execution_count": 5,
   "id": "397fe224-587e-482b-bd8c-ccd687bd355b",
   "metadata": {},
   "outputs": [
    {
     "data": {
      "text/plain": [
       "'\\n\\nCheck if a string is a palindrome.\\n\\n'"
      ]
     },
     "execution_count": 5,
     "metadata": {},
     "output_type": "execute_result"
    }
   ],
   "source": [
    "\"\"\"\n",
    "\n",
    "Check if a string is a palindrome.\n",
    "\n",
    "\"\"\""
   ]
  },
  {
   "cell_type": "code",
   "execution_count": 9,
   "id": "97de88a8-1528-4539-a1c2-ace6416f1646",
   "metadata": {},
   "outputs": [
    {
     "name": "stdin",
     "output_type": "stream",
     "text": [
      "Enter the string madam\n"
     ]
    },
    {
     "name": "stdout",
     "output_type": "stream",
     "text": [
      "String is a palindrome\n"
     ]
    }
   ],
   "source": [
    "str1 = input(\"Enter the string\")\n",
    "Rev_String = str1[::-1]\n",
    "if str1 == Rev_String:\n",
    "    print(\"String is a palindrome\")\n",
    "else :\n",
    "    print(\"Sring is not palindrome\")\n",
    "    "
   ]
  },
  {
   "cell_type": "code",
   "execution_count": 10,
   "id": "ec764ea1-e61b-4abc-9a80-e6e45fd5cd2b",
   "metadata": {},
   "outputs": [
    {
     "data": {
      "text/plain": [
       "'\\n\\nConvert a string to uppercase.\\n\\n'"
      ]
     },
     "execution_count": 10,
     "metadata": {},
     "output_type": "execute_result"
    }
   ],
   "source": [
    "\"\"\"\n",
    "\n",
    "Convert a string to uppercase.\n",
    "\n",
    "\"\"\""
   ]
  },
  {
   "cell_type": "code",
   "execution_count": 14,
   "id": "f6323670-7aee-4952-a1c7-0e1606e4b89c",
   "metadata": {},
   "outputs": [
    {
     "name": "stdin",
     "output_type": "stream",
     "text": [
      "Enter the string amit bahedia\n"
     ]
    },
    {
     "name": "stdout",
     "output_type": "stream",
     "text": [
      "String in uppercase is  AMIT BAHEDIA\n"
     ]
    }
   ],
   "source": [
    "str2 = input(\"Enter the string\")\n",
    "Upper_Str = str2.upper()\n",
    "print(\"String in uppercase is \",  Upper_Str)\n"
   ]
  },
  {
   "cell_type": "code",
   "execution_count": 16,
   "id": "cf2931e0-22eb-4f3a-b028-fad8831cd102",
   "metadata": {},
   "outputs": [
    {
     "data": {
      "text/plain": [
       "'\\n\\nConvert a string to lowercase.\\n\\n'"
      ]
     },
     "execution_count": 16,
     "metadata": {},
     "output_type": "execute_result"
    }
   ],
   "source": [
    "\"\"\"\n",
    "\n",
    "Convert a string to lowercase.\n",
    "\n",
    "\"\"\""
   ]
  },
  {
   "cell_type": "code",
   "execution_count": 15,
   "id": "4ac94dd6-255d-424d-90a4-90c594e6bffe",
   "metadata": {},
   "outputs": [
    {
     "name": "stdin",
     "output_type": "stream",
     "text": [
      "Enter the string AMIT BAHEDIA\n"
     ]
    },
    {
     "name": "stdout",
     "output_type": "stream",
     "text": [
      "String in lowercase is  amit bahedia\n"
     ]
    }
   ],
   "source": [
    "str3 = input(\"Enter the string\")\n",
    "Lower_Str = str3.lower()\n",
    "print(\"String in lowercase is \",  Lower_Str)"
   ]
  },
  {
   "cell_type": "code",
   "execution_count": 17,
   "id": "81e17e28-b747-44a0-bec1-32ae8e7d61d3",
   "metadata": {},
   "outputs": [
    {
     "data": {
      "text/plain": [
       "'\\n\\nCount the number of vowels in a string.\\n\\n'"
      ]
     },
     "execution_count": 17,
     "metadata": {},
     "output_type": "execute_result"
    }
   ],
   "source": [
    "\"\"\"\n",
    "\n",
    "Count the number of vowels in a string.\n",
    "\n",
    "\"\"\"\n"
   ]
  },
  {
   "cell_type": "code",
   "execution_count": 23,
   "id": "76d96bc8-41a1-4710-a916-6659b962b0b1",
   "metadata": {},
   "outputs": [
    {
     "name": "stdin",
     "output_type": "stream",
     "text": [
      "Eneter the String Amit\n"
     ]
    },
    {
     "name": "stdout",
     "output_type": "stream",
     "text": [
      "Amit\n",
      "the total number of vowels are  2\n"
     ]
    }
   ],
   "source": [
    "str4 = input(\"Eneter the String\")\n",
    "print(str4)\n",
    "Vowels_count = str4.count(\"A\") + str4.count(\"a\") + str4.count(\"E\") + str4.count(\"e\") + str4.count(\"I\") + str4.count(\"i\") + str4.count(\"O\") + str4.count(\"o\") + str4.count(\"U\") + str4.count(\"u\")\n",
    "print(\"the total number of vowels are \" , Vowels_count)"
   ]
  },
  {
   "cell_type": "code",
   "execution_count": 24,
   "id": "73235086-04d4-4d74-b166-2d95980faf14",
   "metadata": {},
   "outputs": [
    {
     "data": {
      "text/plain": [
       "'\\nCount the number of consonants in a string.\\n'"
      ]
     },
     "execution_count": 24,
     "metadata": {},
     "output_type": "execute_result"
    }
   ],
   "source": [
    "\"\"\"\n",
    "Count the number of consonants in a string.\n",
    "\"\"\"\n"
   ]
  },
  {
   "cell_type": "code",
   "execution_count": 13,
   "id": "f32a9cd7-a27e-4680-99d0-d4c061d18240",
   "metadata": {},
   "outputs": [
    {
     "name": "stdin",
     "output_type": "stream",
     "text": [
      "Enter the string aat\n"
     ]
    },
    {
     "name": "stdout",
     "output_type": "stream",
     "text": [
      "the no of Vowels 2\n",
      "The no of Consonents 1\n"
     ]
    }
   ],
   "source": [
    "Vowels_Count = 0\n",
    "Cons_Count = 0\n",
    "Vowels = \"aeiouAEIOU\"\n",
    "New_Str = input(\"Enter the string\")\n",
    "for i in New_Str:\n",
    "    if i in Vowels:\n",
    "        Vowels_Count = Vowels_Count + 1\n",
    "    else:\n",
    "        Cons_Count = Cons_Count + 1\n",
    "\n",
    "print(\"the no of Vowels\" , Vowels_Count)\n",
    "print(\"The no of Consonents\", Cons_Count)\n",
    "        \n",
    "    \n",
    "    "
   ]
  },
  {
   "cell_type": "code",
   "execution_count": 25,
   "id": "0c084ac8-a8f9-4736-a0e5-e5b239a63051",
   "metadata": {},
   "outputs": [
    {
     "data": {
      "text/plain": [
       "'\\nRemove all whitespaces from a string.\\n\\n'"
      ]
     },
     "execution_count": 25,
     "metadata": {},
     "output_type": "execute_result"
    }
   ],
   "source": [
    "\"\"\"\n",
    "Remove all whitespaces from a string.\n",
    "\n",
    "\"\"\"\n"
   ]
  },
  {
   "cell_type": "code",
   "execution_count": 2,
   "id": "56cebe51-715d-47ed-ac30-1c0436064220",
   "metadata": {},
   "outputs": [
    {
     "name": "stdin",
     "output_type": "stream",
     "text": [
      "Enter the string a m i t\n"
     ]
    },
    {
     "data": {
      "text/plain": [
       "'amit'"
      ]
     },
     "execution_count": 2,
     "metadata": {},
     "output_type": "execute_result"
    }
   ],
   "source": [
    "# replace methos is used to remove all whitespaces from a string\n",
    "\n",
    "str5 = input(\"Enter the string\")\n",
    "new_str = str5.replace(\" \", \"\")\n",
    "new_str"
   ]
  },
  {
   "cell_type": "code",
   "execution_count": 3,
   "id": "5f863edc-42ea-4146-a86f-28172f457a40",
   "metadata": {},
   "outputs": [],
   "source": [
    "# Find the length of a string without using the `len()` function.\n"
   ]
  },
  {
   "cell_type": "code",
   "execution_count": 3,
   "id": "461b45f7-0d2f-40fb-b341-49bad3c31d29",
   "metadata": {},
   "outputs": [
    {
     "name": "stdin",
     "output_type": "stream",
     "text": [
      "Enter the string amit bahedia\n"
     ]
    },
    {
     "name": "stdout",
     "output_type": "stream",
     "text": [
      "The Length of the string is 12\n"
     ]
    }
   ],
   "source": [
    "Count = 0\n",
    "str6 = input(\"Enter the string\")\n",
    "for i in str6:\n",
    "    Count = Count+1\n",
    "print(\"The Length of the string is\", Count)\n"
   ]
  },
  {
   "cell_type": "code",
   "execution_count": 4,
   "id": "bc4d35a7-d403-4f71-bde8-48b95b558d3f",
   "metadata": {},
   "outputs": [],
   "source": [
    "## Check if a string contains a specific word."
   ]
  },
  {
   "cell_type": "code",
   "execution_count": 10,
   "id": "418df3af-b54a-4d6e-82b2-9971f6c1cefc",
   "metadata": {},
   "outputs": [
    {
     "name": "stdin",
     "output_type": "stream",
     "text": [
      "Enter the string Navina Nikshit\n",
      "Enter the specific word to check Nikshit\n"
     ]
    },
    {
     "name": "stdout",
     "output_type": "stream",
     "text": [
      "the word is available\n"
     ]
    }
   ],
   "source": [
    "input_string = input(\"Enter the string\")\n",
    "specific_word = input(\"Enter the specific word to check\")\n",
    "\n",
    "if specific_word in input_string:\n",
    "    print(\"the word is available\")\n",
    "else:\n",
    "    print(\"The word is not available\")\n"
   ]
  },
  {
   "cell_type": "code",
   "execution_count": 11,
   "id": "5cd604b2-7eeb-45b1-8f0b-2867b1efdd42",
   "metadata": {},
   "outputs": [],
   "source": [
    "## Replace a word in a string with another word"
   ]
  },
  {
   "cell_type": "code",
   "execution_count": 3,
   "id": "05005a6f-22ac-4026-bfaf-ed6c46852b82",
   "metadata": {},
   "outputs": [
    {
     "name": "stdout",
     "output_type": "stream",
     "text": [
      "the updated string is Niksit Bahedia\n"
     ]
    }
   ],
   "source": [
    "New_string = \"Amit Bahedia\"\n",
    "Str_Rep = New_string.replace(\"Amit\", \"Niksit\")\n",
    "print(\"the updated string is\", Str_Rep)\n",
    "\n"
   ]
  },
  {
   "cell_type": "code",
   "execution_count": 5,
   "id": "29408187-ca8e-4ac0-b415-97358506e2bd",
   "metadata": {},
   "outputs": [],
   "source": [
    "## Count the occurrences of a word in a string."
   ]
  },
  {
   "cell_type": "code",
   "execution_count": 31,
   "id": "7cfc5168-3b68-4045-a93d-3b62df3c34a6",
   "metadata": {},
   "outputs": [
    {
     "name": "stdin",
     "output_type": "stream",
     "text": [
      "Enter the string amit navina navina navina\n",
      "Enter the specific word to be search navina\n"
     ]
    },
    {
     "name": "stdout",
     "output_type": "stream",
     "text": [
      "The number appearences of this word are 3\n"
     ]
    }
   ],
   "source": [
    "Word_count = 0\n",
    "str5 = input(\"Enter the string\")\n",
    "Specific_Word = input(\"Enter the specific word to be search\")\n",
    "Words = str5.split() \n",
    "for i in Words:\n",
    "    if i == Specific_Word:\n",
    "        Word_count = Word_count + 1\n",
    "print(\"The number appearences of this word are\", Word_count)\n",
    "\n",
    "\n",
    "\n",
    "    \n",
    "    "
   ]
  },
  {
   "cell_type": "code",
   "execution_count": 32,
   "id": "0fe28841-8a58-4d0b-86dd-161122eb7437",
   "metadata": {},
   "outputs": [],
   "source": [
    "## Find the first occurrence of a word in a string."
   ]
  },
  {
   "cell_type": "code",
   "execution_count": 45,
   "id": "647c7816-5719-4539-8977-ec17a542d8d6",
   "metadata": {},
   "outputs": [
    {
     "name": "stdin",
     "output_type": "stream",
     "text": [
      "Enter the string navina amit amit\n",
      "Enter the word to be serach for amit\n"
     ]
    },
    {
     "name": "stdout",
     "output_type": "stream",
     "text": [
      "1\n"
     ]
    }
   ],
   "source": [
    "str6 = input(\"Enter the string\").split() ## to split words of str in list\n",
    "Word = input(\"Enter the word to be serach for\")\n",
    "if Word in str6:\n",
    "    ind = str6.index(Word) ## return the index of first occurrence of a word in a string\n",
    "print(ind)\n",
    "    \n",
    "\n"
   ]
  },
  {
   "cell_type": "code",
   "execution_count": 46,
   "id": "bbb5294b-893c-4093-b4ac-f3a2725548c9",
   "metadata": {},
   "outputs": [],
   "source": [
    "## Find the last occurrence of a word in a string"
   ]
  },
  {
   "cell_type": "code",
   "execution_count": 9,
   "id": "c3fdaba2-b7ee-4a00-84f8-faecbff43f21",
   "metadata": {},
   "outputs": [
    {
     "name": "stdin",
     "output_type": "stream",
     "text": [
      "Enter the string I am great am I \n",
      "Enter the word to be serach for am\n"
     ]
    },
    {
     "name": "stdout",
     "output_type": "stream",
     "text": [
      "11\n"
     ]
    }
   ],
   "source": [
    "str7 = input(\"Enter the string\")\n",
    "Word = input(\"Enter the word to be serach for\")\n",
    "last_index = str7.rindex(Word)\n",
    "print(last_index)\n",
    "    "
   ]
  },
  {
   "cell_type": "code",
   "execution_count": 10,
   "id": "769234d3-f0ef-4214-8898-0360cd2bf82f",
   "metadata": {},
   "outputs": [],
   "source": [
    "## Split a string into a list of words."
   ]
  },
  {
   "cell_type": "code",
   "execution_count": 11,
   "id": "02fdd44f-378c-4beb-965e-63bccac96f67",
   "metadata": {},
   "outputs": [
    {
     "name": "stdin",
     "output_type": "stream",
     "text": [
      "Enter the string Amit Bahedia\n"
     ]
    },
    {
     "name": "stdout",
     "output_type": "stream",
     "text": [
      "['Amit', 'Bahedia']\n"
     ]
    }
   ],
   "source": [
    "str8 = input(\"Enter the string\")\n",
    "List_Words = str8.split()\n",
    "print(List_Words)"
   ]
  },
  {
   "cell_type": "code",
   "execution_count": 12,
   "id": "e19cc426-91df-4a3c-9b0a-cffd8d142681",
   "metadata": {},
   "outputs": [],
   "source": [
    "## Join a list of words into a string"
   ]
  },
  {
   "cell_type": "code",
   "execution_count": 25,
   "id": "d57474ad-4e4d-4631-b1da-b8cc2141d686",
   "metadata": {},
   "outputs": [
    {
     "name": "stdout",
     "output_type": "stream",
     "text": [
      "Amit Bahedia is a good boy\n"
     ]
    }
   ],
   "source": [
    "l1 = [\"Amit\", \"Bahedia\"]\n",
    "New_List = ' '.join(l1) ## to convert list into string \n",
    "str9 = \"is a good boy\"\n",
    "New_Str1 = New_List + \" \" + str9\n",
    "print(New_Str1)"
   ]
  },
  {
   "cell_type": "code",
   "execution_count": 26,
   "id": "8f6e8203-73d8-4163-b680-c943c9683892",
   "metadata": {},
   "outputs": [
    {
     "data": {
      "text/plain": [
       "' Convert a string where words are separated by spaces to one where words\\nare separated by underscores'"
      ]
     },
     "execution_count": 26,
     "metadata": {},
     "output_type": "execute_result"
    }
   ],
   "source": [
    "\"\"\" Convert a string where words are separated by spaces to one where words\n",
    "are separated by underscores\"\"\""
   ]
  },
  {
   "cell_type": "code",
   "execution_count": 34,
   "id": "ea5a36ef-0607-4b5f-b054-94eebb387714",
   "metadata": {},
   "outputs": [
    {
     "name": "stdin",
     "output_type": "stream",
     "text": [
      "Enter the string where word are seperated by spaces He is a  great man\n"
     ]
    },
    {
     "name": "stdout",
     "output_type": "stream",
     "text": [
      "The stringw where word are seperated by Underscore He_is_a__great_man\n"
     ]
    }
   ],
   "source": [
    "str10 = input(\"Enter the string where word are seperated by spaces\")\n",
    "Str_Underscore = str10.replace(\" \", \"_\")\n",
    "print(\"The stringw where word are seperated by Underscore\", Str_Underscore)"
   ]
  },
  {
   "cell_type": "code",
   "execution_count": 35,
   "id": "0061347e-2ae0-43f8-9017-1b046356440f",
   "metadata": {},
   "outputs": [],
   "source": [
    "## Check if a string starts with a specific word or phrase"
   ]
  },
  {
   "cell_type": "code",
   "execution_count": 3,
   "id": "64240e12-40aa-47bf-9a39-eaf256910333",
   "metadata": {},
   "outputs": [
    {
     "name": "stdin",
     "output_type": "stream",
     "text": [
      "Enter the string I am fine\n",
      "Enter the staring word Amit\n"
     ]
    },
    {
     "data": {
      "text/plain": [
       "False"
      ]
     },
     "execution_count": 3,
     "metadata": {},
     "output_type": "execute_result"
    }
   ],
   "source": [
    "str11 = input(\"Enter the string\")\n",
    "Start_word  = input(\"Enter the staring word\")\n",
    "str11.startswith(Start_word)"
   ]
  },
  {
   "cell_type": "code",
   "execution_count": 4,
   "id": "fff3ef7c-5641-409a-8732-734ffacbeca0",
   "metadata": {},
   "outputs": [],
   "source": [
    "##Check if a string ends with a specific word or phrase.\n"
   ]
  },
  {
   "cell_type": "code",
   "execution_count": 7,
   "id": "98531480-98e1-495d-a9a3-97bc260c803f",
   "metadata": {},
   "outputs": [
    {
     "name": "stdin",
     "output_type": "stream",
     "text": [
      "Enter the string I am great\n",
      "Enter the ending word great\n"
     ]
    },
    {
     "data": {
      "text/plain": [
       "True"
      ]
     },
     "execution_count": 7,
     "metadata": {},
     "output_type": "execute_result"
    }
   ],
   "source": [
    "str12 = input(\"Enter the string\")\n",
    "End_word = input(\"Enter the ending word\")\n",
    "str12.endswith(End_word)"
   ]
  },
  {
   "cell_type": "code",
   "execution_count": 1,
   "id": "4110db2f-c5b4-4880-bb80-833f7c233675",
   "metadata": {},
   "outputs": [],
   "source": [
    "##Convert a string to title case (e.g., \"hello world\" to \"Hello World\")."
   ]
  },
  {
   "cell_type": "code",
   "execution_count": 3,
   "id": "cc85e0bf-4e3a-4d7d-9cbd-9102cf95cc4d",
   "metadata": {},
   "outputs": [
    {
     "name": "stdin",
     "output_type": "stream",
     "text": [
      "Enter the string hello world\n"
     ]
    },
    {
     "data": {
      "text/plain": [
       "'Hello World'"
      ]
     },
     "execution_count": 3,
     "metadata": {},
     "output_type": "execute_result"
    }
   ],
   "source": [
    "str13 = input(\"Enter the string\")\n",
    "Str_Title = str13.title() ## to convert the string into title case\n",
    "Str_Title "
   ]
  },
  {
   "cell_type": "code",
   "execution_count": 4,
   "id": "1854c6d8-d7a7-48b5-b945-8e645c4937af",
   "metadata": {},
   "outputs": [],
   "source": [
    "## Find the longest word in a string"
   ]
  },
  {
   "cell_type": "code",
   "execution_count": 28,
   "id": "2b9dd867-e724-40e3-b847-41e02abe3c8b",
   "metadata": {},
   "outputs": [
    {
     "name": "stdin",
     "output_type": "stream",
     "text": [
      "Enter the string I am fine\n"
     ]
    },
    {
     "name": "stdout",
     "output_type": "stream",
     "text": [
      "the longest word in string is  fine\n"
     ]
    }
   ],
   "source": [
    "str14 = input(\"Enter the string\")\n",
    "Words = str14.split()\n",
    "Longest_Word = max(Words, key = len) ## to calculate \n",
    "print(\"the longest word in string is \", Longest_Word)\n",
    "\n",
    "\n",
    "    "
   ]
  },
  {
   "cell_type": "code",
   "execution_count": 24,
   "id": "979abbff-1553-463a-a35e-9437bc457009",
   "metadata": {},
   "outputs": [],
   "source": [
    "## Find the shortest word in a string"
   ]
  },
  {
   "cell_type": "code",
   "execution_count": 31,
   "id": "e0599865-c9df-4206-b1d1-6ed0e945cbcb",
   "metadata": {},
   "outputs": [
    {
     "name": "stdin",
     "output_type": "stream",
     "text": [
      "Enter the string bahedia amit\n"
     ]
    },
    {
     "name": "stdout",
     "output_type": "stream",
     "text": [
      "the shortest word in string is amit\n"
     ]
    }
   ],
   "source": [
    "str15 = input(\"Enter the string\").split()\n",
    "Shortest_word = min(str15, key = len)\n",
    "print(\"the shortest word in string is\", Shortest_word)\n"
   ]
  },
  {
   "cell_type": "code",
   "execution_count": 32,
   "id": "97b3bb6e-c418-46e3-bb34-1110154da857",
   "metadata": {},
   "outputs": [],
   "source": [
    "## Reverse the order of words in a string"
   ]
  },
  {
   "cell_type": "code",
   "execution_count": 43,
   "id": "420088d0-b246-4862-a721-c7afe2eec26e",
   "metadata": {},
   "outputs": [
    {
     "name": "stdin",
     "output_type": "stream",
     "text": [
      "enter the string I am fine\n"
     ]
    },
    {
     "data": {
      "text/plain": [
       "'fine am I'"
      ]
     },
     "execution_count": 43,
     "metadata": {},
     "output_type": "execute_result"
    }
   ],
   "source": [
    "str16 = input(\"enter the string\")\n",
    "Words = str16.split() ## split the string into list of words\n",
    "Rev_words = list(reversed(Words)) ## reversing wortds in a list\n",
    "\" \".join(Rev_words) ## join function joins elements of a sequence and makes it a string.\n"
   ]
  },
  {
   "cell_type": "code",
   "execution_count": 44,
   "id": "ab45f5d7-9a20-48d2-ac46-241c698a4e56",
   "metadata": {},
   "outputs": [],
   "source": [
    "## Check if a string is alphanumeric"
   ]
  },
  {
   "cell_type": "code",
   "execution_count": 56,
   "id": "87445f71-6baf-4a5c-9b11-5e5802ee1111",
   "metadata": {},
   "outputs": [
    {
     "name": "stdin",
     "output_type": "stream",
     "text": [
      "Enter the string Amit14 is 32 years old\n"
     ]
    },
    {
     "data": {
      "text/plain": [
       "False"
      ]
     },
     "execution_count": 56,
     "metadata": {},
     "output_type": "execute_result"
    }
   ],
   "source": [
    "str17 = input(\"Enter the string\")\n",
    "str17.isalnum()"
   ]
  },
  {
   "cell_type": "code",
   "execution_count": 57,
   "id": "4d9b96a2-51c8-4e36-93ff-e3bd78765d57",
   "metadata": {},
   "outputs": [],
   "source": [
    "## Extract all digits from a string"
   ]
  },
  {
   "cell_type": "code",
   "execution_count": 1,
   "id": "e3d39623-7de2-4d91-ac58-c507cdc5ef46",
   "metadata": {},
   "outputs": [
    {
     "name": "stdin",
     "output_type": "stream",
     "text": [
      "Enter the string amit123\n"
     ]
    },
    {
     "name": "stdout",
     "output_type": "stream",
     "text": [
      "1\n",
      "2\n",
      "3\n"
     ]
    }
   ],
   "source": [
    "str18 = input(\"Enter the string\")\n",
    "for i in str18:\n",
    "    if i.isdigit():\n",
    "        print(i)\n",
    "\n",
    "\n",
    "        \n",
    "\n"
   ]
  },
  {
   "cell_type": "code",
   "execution_count": 2,
   "id": "b0410094-3f6f-487a-8980-3023ecc39d27",
   "metadata": {},
   "outputs": [],
   "source": [
    "## Extract all alphabets from a string.\n"
   ]
  },
  {
   "cell_type": "code",
   "execution_count": 7,
   "id": "49008ff3-87c2-41ad-a1b1-ba28c08171b4",
   "metadata": {},
   "outputs": [
    {
     "name": "stdin",
     "output_type": "stream",
     "text": [
      "Enter the string amitbahedia\n"
     ]
    },
    {
     "name": "stdout",
     "output_type": "stream",
     "text": [
      "amitbahedia"
     ]
    }
   ],
   "source": [
    "str19 = input(\"Enter the string\")\n",
    "for alpha in str19:\n",
    "    if alpha.isalpha():\n",
    "        print(alpha, end = \"\")"
   ]
  },
  {
   "cell_type": "code",
   "execution_count": 8,
   "id": "bec98a9f-9ac2-495e-b9bb-76f71a5f70da",
   "metadata": {},
   "outputs": [],
   "source": [
    "## Count the number of uppercase letters in a string"
   ]
  },
  {
   "cell_type": "code",
   "execution_count": 17,
   "id": "7e04f925-1aaf-4aba-ac3c-16ca0b344012",
   "metadata": {},
   "outputs": [
    {
     "name": "stdin",
     "output_type": "stream",
     "text": [
      "Enter the string AmitBAHEDIA\n"
     ]
    },
    {
     "name": "stdout",
     "output_type": "stream",
     "text": [
      "The total number of uppercare Characters in string are 8\n"
     ]
    }
   ],
   "source": [
    "count = 0\n",
    "str20 = input(\"Enter the string\")\n",
    "for j in str20:\n",
    "    if j.isupper():\n",
    "        count = count + 1\n",
    "print(\"The total number of uppercare Characters in string are\", count)\n",
    "    "
   ]
  },
  {
   "cell_type": "code",
   "execution_count": 18,
   "id": "59e1c66e-64ac-4545-8876-def4e6a72ac6",
   "metadata": {},
   "outputs": [],
   "source": [
    "## Count the number of lowercase letters in a string.\n"
   ]
  },
  {
   "cell_type": "code",
   "execution_count": 22,
   "id": "d3344b8b-f36a-45ac-b87f-79c5dbbeebcf",
   "metadata": {},
   "outputs": [
    {
     "name": "stdin",
     "output_type": "stream",
     "text": [
      "Enter the string Amit\n"
     ]
    },
    {
     "name": "stdout",
     "output_type": "stream",
     "text": [
      "The total number of lowercase Characters in string are 3\n"
     ]
    }
   ],
   "source": [
    "count = 0\n",
    "str21 = input(\"Enter the string\")\n",
    "for j in str21:\n",
    "    if j.islower():\n",
    "        count = count + 1\n",
    "print(\"The total number of lowercase Characters in string are\", count)"
   ]
  },
  {
   "cell_type": "code",
   "execution_count": 23,
   "id": "cb35e7a3-88d5-47f6-ab4d-ef166a9db503",
   "metadata": {},
   "outputs": [],
   "source": [
    "##  Swap the case of each character in a string.\n"
   ]
  },
  {
   "cell_type": "code",
   "execution_count": 20,
   "id": "9e0e36c9-9bd3-494e-a3ba-348bc4adfa6d",
   "metadata": {},
   "outputs": [
    {
     "name": "stdin",
     "output_type": "stream",
     "text": [
      "Enter the string AMITBAHEDIA\n"
     ]
    },
    {
     "name": "stdout",
     "output_type": "stream",
     "text": [
      "the entered string is  AMITBAHEDIA\n",
      "amitbahedia"
     ]
    }
   ],
   "source": [
    "str22 = input(\"Enter the string\")\n",
    "print(\"the entered string is \", str22)\n",
    "for i in str22:\n",
    "    if i.isupper():\n",
    "        print(i.lower(), end = \"\")\n",
    "    elif i.islower():\n",
    "        print(i.upper(), end = \"\")\n",
    "\n",
    "\n",
    "\n",
    "    "
   ]
  },
  {
   "cell_type": "code",
   "execution_count": 21,
   "id": "7f991b01-106f-4324-84c1-a8ec57254911",
   "metadata": {},
   "outputs": [],
   "source": [
    "#Using Swapcase method to Swap the case of each character in a string."
   ]
  },
  {
   "cell_type": "code",
   "execution_count": 22,
   "id": "db5fa0ba-c7ec-4024-ac73-19472c855d41",
   "metadata": {},
   "outputs": [
    {
     "name": "stdin",
     "output_type": "stream",
     "text": [
      "Enter the string AMIT BAHEDIA\n"
     ]
    },
    {
     "data": {
      "text/plain": [
       "'amit bahedia'"
      ]
     },
     "execution_count": 22,
     "metadata": {},
     "output_type": "execute_result"
    }
   ],
   "source": [
    "str23 = input(\"Enter the string\")\n",
    "str23.swapcase()"
   ]
  },
  {
   "cell_type": "code",
   "execution_count": 23,
   "id": "3e1f8b74-79af-4f61-a9b3-43ab68c35abc",
   "metadata": {},
   "outputs": [],
   "source": [
    "## Remove a specific word from a string.\n"
   ]
  },
  {
   "cell_type": "code",
   "execution_count": 30,
   "id": "00edbb84-7aea-42dc-99bf-3b6ec32b1408",
   "metadata": {},
   "outputs": [
    {
     "name": "stdin",
     "output_type": "stream",
     "text": [
      "Enter the string Amit Bahedia\n",
      "Enter the word to be removed Navina \n"
     ]
    },
    {
     "name": "stdout",
     "output_type": "stream",
     "text": [
      "word is not present in string\n"
     ]
    }
   ],
   "source": [
    "str24 = input(\"Enter the string\").split()\n",
    "Word = input(\"Enter the word to be removed\")\n",
    "if Word in str24:\n",
    "    str24.remove(Word)\n",
    "    print(\" \".join(str24))\n",
    "else:\n",
    "    print(\"word is not present in string\")\n",
    "\n"
   ]
  },
  {
   "cell_type": "code",
   "execution_count": 1,
   "id": "55afeac8-1fca-408f-8f63-ebbfec1f8596",
   "metadata": {},
   "outputs": [],
   "source": [
    "## Check if a string is a valid email address"
   ]
  },
  {
   "cell_type": "code",
   "execution_count": 8,
   "id": "eb3f6cab-802a-4adf-999b-0018de16c761",
   "metadata": {},
   "outputs": [
    {
     "name": "stdin",
     "output_type": "stream",
     "text": [
      "Enter the string amit@.com\n"
     ]
    },
    {
     "name": "stdout",
     "output_type": "stream",
     "text": [
      "Email address is invalid\n"
     ]
    }
   ],
   "source": [
    "import re ## regular expression module \n",
    "pattern = r'^[\\w\\.-]+@[\\w\\.-]+\\.\\w+$' # Regular Expression for Pattern\n",
    "str25 = input(\"Enter the string\")\n",
    "\n",
    "if re.match(pattern, str25):\n",
    "    print(\"Email address is valid\")\n",
    "else : \n",
    "    print(\"Email address is invalid\")"
   ]
  },
  {
   "cell_type": "code",
   "execution_count": 9,
   "id": "efe184d6-29d3-4bec-ad9d-c10c76acec92",
   "metadata": {},
   "outputs": [],
   "source": [
    "## Extract the username from an email address string."
   ]
  },
  {
   "cell_type": "code",
   "execution_count": 12,
   "id": "36337159-7ecd-4bee-ac92-f6010c754e0d",
   "metadata": {},
   "outputs": [
    {
     "name": "stdin",
     "output_type": "stream",
     "text": [
      "Enter the string amit.bahedia@gmail.com\n"
     ]
    },
    {
     "name": "stdout",
     "output_type": "stream",
     "text": [
      "Email address is valid\n",
      "amit.bahedia\n"
     ]
    }
   ],
   "source": [
    "import re ## regular expression module \n",
    "pattern = r'^[\\w\\.-]+@[\\w\\.-]+\\.\\w+$' # Regular Expression for Pattern\n",
    "str26 = input(\"Enter the string\")\n",
    "\n",
    "if re.match(pattern, str26):\n",
    "    print(\"Email address is valid\")\n",
    "    username = str26.split('@')[0]\n",
    "    print(username)\n",
    "else : \n",
    "    print(\"Email address is invalid\")"
   ]
  },
  {
   "cell_type": "code",
   "execution_count": 13,
   "id": "ae2ac912-a59c-4758-845c-2e01ac39ac4e",
   "metadata": {},
   "outputs": [],
   "source": [
    "## Extract the domain name from an email address string"
   ]
  },
  {
   "cell_type": "code",
   "execution_count": 18,
   "id": "2fe8cafc-bc6a-4e4d-ae34-886050a7759c",
   "metadata": {},
   "outputs": [
    {
     "name": "stdin",
     "output_type": "stream",
     "text": [
      "Enter the string navinabahedia16@gmail.com\n"
     ]
    },
    {
     "name": "stdout",
     "output_type": "stream",
     "text": [
      "Email address is valid\n",
      "gmail.com\n"
     ]
    }
   ],
   "source": [
    "pattern = r'^[\\w\\.-]+@[\\w\\.-]+\\.\\w+$' # Regular Expression for Pattern\n",
    "str27 = input(\"Enter the string\")\n",
    "\n",
    "if re.match(pattern, str26):\n",
    "    print(\"Email address is valid\")\n",
    "    username = str27.split('@')[-1]\n",
    "    print(username)\n",
    "else : \n",
    "    print(\"Email address is invalid\")"
   ]
  },
  {
   "cell_type": "code",
   "execution_count": 19,
   "id": "e43cdf4f-6c54-460b-b02d-ebf18b8f7df4",
   "metadata": {},
   "outputs": [],
   "source": [
    "## Replace multiple spaces in a string with a single space"
   ]
  },
  {
   "cell_type": "code",
   "execution_count": 28,
   "id": "acb6f4e1-c283-467a-b2ef-759b44db3a21",
   "metadata": {},
   "outputs": [
    {
     "name": "stdin",
     "output_type": "stream",
     "text": [
      "Enter the string Amit     bahedia\n"
     ]
    },
    {
     "data": {
      "text/plain": [
       "'Amit bahedia'"
      ]
     },
     "execution_count": 28,
     "metadata": {},
     "output_type": "execute_result"
    }
   ],
   "source": [
    "str28 = input(\"Enter the string\")\n",
    "Words = str28.split() ## to splt the string into words\n",
    "Single_Space_String = ' '.join(Words) ## to join the words with single spaces\n",
    "Single_Space_String\n",
    "\n",
    "\n"
   ]
  },
  {
   "cell_type": "code",
   "execution_count": 29,
   "id": "61e84408-806a-4166-b168-ce53bedded1e",
   "metadata": {},
   "outputs": [],
   "source": [
    "## Check if a string is a valid URL. Concept of this one is still not covered"
   ]
  },
  {
   "cell_type": "code",
   "execution_count": 33,
   "id": "7be17fe4-4a62-44ac-abad-a1b4ab9570ea",
   "metadata": {},
   "outputs": [
    {
     "name": "stdin",
     "output_type": "stream",
     "text": [
      "Enter the string http://wwww.amit.com\n"
     ]
    },
    {
     "name": "stdout",
     "output_type": "stream",
     "text": [
      "URL is valid\n"
     ]
    }
   ],
   "source": [
    "import re ## regular expression module\n",
    "pattern = r\"^(https?|ftp)://[^\\s/$.?#].[^\\s]*$\" ## regular expression pattern for URL\n",
    "str29 = input(\"Enter the string\")\n",
    "\n",
    "if re.match(pattern, str29):\n",
    "    print(\"URL is valid\")\n",
    "else:\n",
    "    print(\"URL is invalid\")\n"
   ]
  },
  {
   "cell_type": "code",
   "execution_count": 34,
   "id": "e6182f1d-5781-4ba7-90b1-5edd30e48c6e",
   "metadata": {},
   "outputs": [],
   "source": [
    "## Extract the protocol (http or https) from a URL string"
   ]
  },
  {
   "cell_type": "code",
   "execution_count": 48,
   "id": "159fd03f-c441-4754-ad70-be78ad8702bb",
   "metadata": {},
   "outputs": [
    {
     "name": "stdin",
     "output_type": "stream",
     "text": [
      "Enter the string https://www.google.com/\n"
     ]
    },
    {
     "name": "stdout",
     "output_type": "stream",
     "text": [
      "URL is valid\n",
      "The protocol from URL is  https\n"
     ]
    }
   ],
   "source": [
    "import re ## regular expression module\n",
    "pattern = r\"^(https?|ftp)://[^\\s/$.?#].[^\\s]*$\" ## regular expression pattern for URL\n",
    "str30 = input(\"Enter the string\")\n",
    "if re.match(pattern, str30):\n",
    "    print(\"URL is valid\")\n",
    "    protocol = str30.split('://')[0]\n",
    "    print(\"The protocol from URL is \", protocol)\n",
    "else:\n",
    "    print(\"URL is invalid\")"
   ]
  },
  {
   "cell_type": "code",
   "execution_count": 49,
   "id": "328b2f79-1db9-4645-b61a-de6e57e79e81",
   "metadata": {},
   "outputs": [],
   "source": [
    "## Find the frequency of each character in a string"
   ]
  },
  {
   "cell_type": "code",
   "execution_count": 61,
   "id": "d37e03a7-9e22-471f-a0a2-fce26b9bf8f2",
   "metadata": {},
   "outputs": [
    {
     "name": "stdin",
     "output_type": "stream",
     "text": [
      "Enter the string amit\n"
     ]
    }
   ],
   "source": [
    "str31 = input(\"Enter the string\")\n",
    "freq_dict = {}\n",
    "for i in str31:\n",
    "    if i in freq_dict:\n",
    "        freq_dict[i]+= 1\n",
    "    else:\n",
    "        freq_dict[i] = 1\n",
    "        \n",
    "    \n",
    "    \n",
    "        \n",
    "        \n",
    "        \n"
   ]
  },
  {
   "cell_type": "code",
   "execution_count": 67,
   "id": "f9632610-b9d7-4e10-9385-eb452396736f",
   "metadata": {},
   "outputs": [
    {
     "name": "stdin",
     "output_type": "stream",
     "text": [
      "Enter the string amit bahedia\n"
     ]
    },
    {
     "name": "stdout",
     "output_type": "stream",
     "text": [
      "'a': 3\n",
      "'m': 1\n",
      "'i': 2\n",
      "'t': 1\n",
      "' ': 1\n",
      "'b': 1\n",
      "'h': 1\n",
      "'e': 1\n",
      "'d': 1\n"
     ]
    }
   ],
   "source": [
    "def count_characters(string):\n",
    "    # Initialize an empty dictionary to store character frequencies\n",
    "    char_frequency = {}\n",
    "\n",
    "    # Iterate through the string\n",
    "    for i in string:\n",
    "        \n",
    "        if i in char_frequency:\n",
    "            char_frequency[i] = char_frequency[i] + 1\n",
    "        else:\n",
    "            char_frequency[i] = 1\n",
    "            \n",
    "\n",
    "    return char_frequency\n",
    "\n",
    "str31 = input(\"Enter the string\")\n",
    "result = count_characters(str31)\n",
    "\n",
    "\n",
    "for i, count in result.items():\n",
    "    print(f\"'{i}': {count}\")"
   ]
  },
  {
   "cell_type": "code",
   "execution_count": 1,
   "id": "cb4abfe5-5ae5-49f0-ba9c-b585298c8fef",
   "metadata": {},
   "outputs": [],
   "source": [
    "## Check if a string contains only digits"
   ]
  },
  {
   "cell_type": "code",
   "execution_count": 4,
   "id": "ecae7160-0498-416c-805e-19e5b83181a6",
   "metadata": {},
   "outputs": [
    {
     "name": "stdin",
     "output_type": "stream",
     "text": [
      "Enter the string 123345456\n"
     ]
    },
    {
     "data": {
      "text/plain": [
       "True"
      ]
     },
     "execution_count": 4,
     "metadata": {},
     "output_type": "execute_result"
    }
   ],
   "source": [
    "str32 = input(\"Enter the string\")\n",
    "str32.isdigit()\n",
    "              "
   ]
  },
  {
   "cell_type": "code",
   "execution_count": 5,
   "id": "ef2520e6-f378-4e4f-86d3-ac1793c82f25",
   "metadata": {},
   "outputs": [],
   "source": [
    "## Check if a string contains only alphabets"
   ]
  },
  {
   "cell_type": "code",
   "execution_count": 8,
   "id": "0accd8a4-5dae-40f8-a7d9-5e27cbeb4366",
   "metadata": {},
   "outputs": [
    {
     "name": "stdin",
     "output_type": "stream",
     "text": [
      "Enter the string amitbahedia\n"
     ]
    },
    {
     "data": {
      "text/plain": [
       "True"
      ]
     },
     "execution_count": 8,
     "metadata": {},
     "output_type": "execute_result"
    }
   ],
   "source": [
    "str33 = input(\"Enter the string\")\n",
    "str33.isalpha()"
   ]
  },
  {
   "cell_type": "code",
   "execution_count": 9,
   "id": "0c84ad22-600a-49c8-bf68-33ab9ea4d8ac",
   "metadata": {},
   "outputs": [],
   "source": [
    "## Convert a string to a list of characters"
   ]
  },
  {
   "cell_type": "code",
   "execution_count": 17,
   "id": "eb440f1f-02c6-417b-9873-6fee626ab9f1",
   "metadata": {},
   "outputs": [
    {
     "name": "stdin",
     "output_type": "stream",
     "text": [
      "Enter the string amit\n"
     ]
    },
    {
     "name": "stdout",
     "output_type": "stream",
     "text": [
      "['a', 'm', 'i', 't']"
     ]
    }
   ],
   "source": [
    "str34 = input(\"Enter the string\")\n",
    "for i in str34.split():\n",
    "    print(list(i), end = '')\n"
   ]
  },
  {
   "cell_type": "code",
   "execution_count": 18,
   "id": "8deb1482-8a8f-40b5-8126-caff0e8e77d3",
   "metadata": {},
   "outputs": [],
   "source": [
    "## Check if two strings are anagrams"
   ]
  },
  {
   "cell_type": "code",
   "execution_count": 11,
   "id": "5c8bcbe0-3756-42e6-9e58-c3c37d17b96d",
   "metadata": {},
   "outputs": [
    {
     "name": "stdin",
     "output_type": "stream",
     "text": [
      "Enter first string amit\n",
      "Enter second string mita\n"
     ]
    },
    {
     "name": "stdout",
     "output_type": "stream",
     "text": [
      "both strings are anagrams\n"
     ]
    }
   ],
   "source": [
    "first_str = input(\"Enter first string\")\n",
    "second_str = input(\"Enter second string\")\n",
    "\n",
    "first_str = first_str.lower()\n",
    "second_str = second_str.lower()\n",
    "\n",
    "if len(first_str) == len(second_str):\n",
    "    sorted_first = sorted(first_str)\n",
    "    sorted_second = sorted(second_str)\n",
    "    \n",
    "    if sorted_first == sorted_second:\n",
    "        print(\"both strings are anagrams\")\n",
    "else:\n",
    "    print(\"both strings are not anagrams\")\n",
    "        "
   ]
  },
  {
   "cell_type": "code",
   "execution_count": 12,
   "id": "d6ed8456-4c89-4d3f-b5b3-97a2c041ad78",
   "metadata": {},
   "outputs": [],
   "source": [
    "## Find the most frequent word in a string"
   ]
  },
  {
   "cell_type": "code",
   "execution_count": 9,
   "id": "7023b946-d5fb-4961-979a-2a17d8f8d69c",
   "metadata": {},
   "outputs": [
    {
     "name": "stdin",
     "output_type": "stream",
     "text": [
      "Enter the string I am fine\n"
     ]
    },
    {
     "name": "stdout",
     "output_type": "stream",
     "text": [
      "I\n"
     ]
    }
   ],
   "source": [
    "def most_frequent_word(text):\n",
    "  \"\"\"\n",
    "  Finds the most frequent word in the given text.\n",
    "\n",
    "  Args:\n",
    "    text: A string containing the text to be analyzed.\n",
    "\n",
    "  Returns:\n",
    "    A string containing the most frequent word in the text.\n",
    "  \"\"\"\n",
    "\n",
    "  words = text.split()\n",
    "  word_counts = {}\n",
    "  for i in words:\n",
    "    if i in word_counts:\n",
    "      word_counts[i] += 1\n",
    "    else:\n",
    "      word_counts[i] = 1\n",
    "\n",
    "  max_count = 0\n",
    "  most_frequent_word = None\n",
    "  for i, count in word_counts.items():\n",
    "    if count > max_count:\n",
    "      most_frequent_word = i\n",
    "      max_count = count\n",
    "\n",
    "  return most_frequent_word\n",
    "\n",
    "\n",
    "# Example usage:\n",
    "\n",
    "text = input(\"Enter the string\")\n",
    "most_frequent_word = most_frequent_word(text)\n",
    "print(most_frequent_word)\n",
    "\n"
   ]
  },
  {
   "cell_type": "code",
   "execution_count": 10,
   "id": "6bc18ad6-7c64-49bc-96a7-575d8e7c45c3",
   "metadata": {},
   "outputs": [],
   "source": [
    "## Find all unique words in a string"
   ]
  },
  {
   "cell_type": "code",
   "execution_count": 32,
   "id": "eebf4a36-d016-409b-bc01-a1647e9042d2",
   "metadata": {},
   "outputs": [
    {
     "name": "stdin",
     "output_type": "stream",
     "text": [
      "Enter the string Amit Amit Navina\n"
     ]
    },
    {
     "data": {
      "text/plain": [
       "'Navina , Amit'"
      ]
     },
     "execution_count": 32,
     "metadata": {},
     "output_type": "execute_result"
    }
   ],
   "source": [
    "def unique_words(text):\n",
    "    \n",
    "    words = text.split() ## convert the strings into list \n",
    "    List_set = set(words) ## convert the list into set for uniqueness \n",
    "    unique_list = (list(List_set))\n",
    "    String_with_unique_words = \" , \".join(unique_list)\n",
    "    return String_with_unique_words\n",
    "\n",
    "\n",
    "Str_New = input(\"Enter the string\")\n",
    "\n",
    "unique_words(Str_New)\n",
    "\n",
    "    \n",
    "\n",
    "\n",
    "    \n",
    "    \n",
    "    \n",
    "\n",
    "        \n",
    "    \n",
    "\n",
    " \n",
    "    "
   ]
  },
  {
   "cell_type": "code",
   "execution_count": 33,
   "id": "ae160799-770d-4ca2-bace-b7de2a5bd3c9",
   "metadata": {},
   "outputs": [],
   "source": [
    "## Count the number of syllables in a string"
   ]
  },
  {
   "cell_type": "code",
   "execution_count": 18,
   "id": "a0a32808-cc66-466e-acd2-327a9b337e4b",
   "metadata": {},
   "outputs": [],
   "source": [
    "def count_syllables(text):\n",
    "    count = 0\n",
    "    vowels = \"aeiou\"\n",
    "    for i in range(len(text)):\n",
    "        if text[i] in vowels and text[i-1] not in vowels:\n",
    "            count = count + 1\n",
    "        if text.endswith(\"e\"):\n",
    "            count = count  - 1\n",
    "        if count == 0:\n",
    "            count = count + 1\n",
    "    return count\n",
    "        \n",
    "        \n",
    "\t   \n",
    "\n"
   ]
  },
  {
   "cell_type": "code",
   "execution_count": 20,
   "id": "19563e14-2b86-4ded-8915-43cc09e754c0",
   "metadata": {},
   "outputs": [
    {
     "data": {
      "text/plain": [
       "3"
      ]
     },
     "execution_count": 20,
     "metadata": {},
     "output_type": "execute_result"
    }
   ],
   "source": [
    "count_syllables(\"elephant\")"
   ]
  },
  {
   "cell_type": "code",
   "execution_count": 21,
   "id": "41794d02-4490-4f70-b82f-fb7c5e649dc5",
   "metadata": {},
   "outputs": [],
   "source": [
    "## Check if a string contains any special characters"
   ]
  },
  {
   "cell_type": "code",
   "execution_count": 32,
   "id": "ea6a5de5-3849-488d-bba1-619f7ee01b49",
   "metadata": {},
   "outputs": [
    {
     "name": "stdin",
     "output_type": "stream",
     "text": [
      "Enter the string I am fine\n"
     ]
    },
    {
     "name": "stdout",
     "output_type": "stream",
     "text": [
      "Special Chars are not present\n",
      "Special Chars are not present\n",
      "Special Chars are not present\n",
      "Special Chars are not present\n",
      "Special Chars are not present\n",
      "Special Chars are not present\n",
      "Special Chars are not present\n",
      "Special Chars are not present\n",
      "Special Chars are not present\n"
     ]
    }
   ],
   "source": [
    "New_Str = input(\"Enter the string\")\n",
    "Special_Characters  =\"!@#$%^&*()-+?_=,./;'<>:\"\n",
    "\n",
    "for i in New_Str:\n",
    "    if i in Special_Characters:\n",
    "        print(\"Special Chars are present\")\n",
    "    else:\n",
    "        print(\"Special Chars are not present\")\n",
    "        \n",
    "        "
   ]
  },
  {
   "cell_type": "code",
   "execution_count": 1,
   "id": "3f852d5f-729a-4f31-92ef-4f19c1dec867",
   "metadata": {},
   "outputs": [],
   "source": [
    "## Remove the nth word from a string."
   ]
  },
  {
   "cell_type": "code",
   "execution_count": 10,
   "id": "d0b6ae0c-eee3-4a2e-9cd3-fc565cf830ee",
   "metadata": {},
   "outputs": [
    {
     "name": "stdin",
     "output_type": "stream",
     "text": [
      "Enter the string I am great\n",
      "Enter the word to be deleted from string great\n"
     ]
    },
    {
     "name": "stdout",
     "output_type": "stream",
     "text": [
      "New String is I am \n"
     ]
    }
   ],
   "source": [
    "text = input(\"Enter the string\")\n",
    "Word = input(\"Enter the word to be deleted from string\")\n",
    "Word_List = text.split()\n",
    "\n",
    "if Word in Word_List:\n",
    "        text = text.replace(Word, \"\")\n",
    "        print(\"New String is\" , text)\n",
    "else:\n",
    "    print(\"Entered word is not found in string\")\n",
    "    \n",
    "        "
   ]
  },
  {
   "cell_type": "code",
   "execution_count": 11,
   "id": "f1e074db-105b-4d13-8150-e0d1442c6a2a",
   "metadata": {},
   "outputs": [],
   "source": [
    "## Insert a word at the nth position in a string."
   ]
  },
  {
   "cell_type": "code",
   "execution_count": 20,
   "id": "0d7804f7-344d-491e-b6c6-a213c58e492d",
   "metadata": {},
   "outputs": [
    {
     "name": "stdin",
     "output_type": "stream",
     "text": [
      "Enter the string I am a great\n",
      "Enter the word to be added boy\n",
      "Enter the position where word need to be entered 5\n"
     ]
    },
    {
     "name": "stdout",
     "output_type": "stream",
     "text": [
      "The new string is I am a great boy\n"
     ]
    }
   ],
   "source": [
    "text1 = input(\"Enter the string\")\n",
    "Word1 = input(\"Enter the word to be added\")\n",
    "Pos = int(input(\"Enter the position where word need to be entered\"))\n",
    "\n",
    "Word_List1 = text1.split()\n",
    "Word_List1.insert(Pos, Word1)\n",
    "\n",
    "Updated_String = \" \".join(Word_List1)\n",
    "print(\"The new string is\", Updated_String)"
   ]
  },
  {
   "cell_type": "code",
   "execution_count": 21,
   "id": "8383d866-3503-4680-ae37-b08d47cc68fb",
   "metadata": {},
   "outputs": [],
   "source": [
    "## Convert a CSV string to a list of lists."
   ]
  },
  {
   "cell_type": "code",
   "execution_count": 38,
   "id": "29bc6db7-b50c-4a2f-926e-fc14ddbde7cb",
   "metadata": {},
   "outputs": [
    {
     "name": "stdin",
     "output_type": "stream",
     "text": [
      "Enter the CSV string \"Name, Age, Country\\nJohn, 25, USA\\nAlice, 30, Canada\\nBob, 22, UK\"\n"
     ]
    },
    {
     "name": "stdout",
     "output_type": "stream",
     "text": [
      "[['\"Name', ' Age', ' Country\\\\nJohn', ' 25', ' USA\\\\nAlice', ' 30', ' Canada\\\\nBob', ' 22', ' UK\"']]\n",
      "['\"Name', ' Age', ' Country\\\\nJohn', ' 25', ' USA\\\\nAlice', ' 30', ' Canada\\\\nBob', ' 22', ' UK\"']\n"
     ]
    }
   ],
   "source": [
    "CSV_String = input(\"Enter the CSV string\")\n",
    "lines = CSV_String.split('\\n')\n",
    "\n",
    "Final_List = []\n",
    "\n",
    "for i in lines:\n",
    "    Updated_details = i.split(',')\n",
    "    Final_List.append(Updated_details)\n",
    "print(Final_List)\n",
    "\n",
    "for row in Final_List:\n",
    "    print(row)\n",
    "    \n",
    "\n",
    "\n",
    "    \n"
   ]
  },
  {
   "cell_type": "markdown",
   "id": "47bb83cc-ff5e-4f99-a40f-f89175cb5375",
   "metadata": {},
   "source": [
    "List Problem"
   ]
  },
  {
   "cell_type": "code",
   "execution_count": 40,
   "id": "f51d17a9-081f-4d4d-b139-528f72d0f4b7",
   "metadata": {},
   "outputs": [],
   "source": [
    "## Create a list with integers from 1 to 10."
   ]
  },
  {
   "cell_type": "code",
   "execution_count": 42,
   "id": "f2edbc70-e001-4372-bf46-e25669e03949",
   "metadata": {},
   "outputs": [
    {
     "data": {
      "text/plain": [
       "[1, 2, 3, 4, 5, 6, 7, 8, 9, 10]"
      ]
     },
     "execution_count": 42,
     "metadata": {},
     "output_type": "execute_result"
    }
   ],
   "source": [
    "Required_list = list(range(1, 11)) ## using range function to get data from 1 tp 10\n",
    "Required_list"
   ]
  },
  {
   "cell_type": "code",
   "execution_count": 43,
   "id": "db0e551d-09f5-4f90-8307-4b70baaae884",
   "metadata": {},
   "outputs": [],
   "source": [
    "## Find the length of a list without using the `len()` function\n"
   ]
  },
  {
   "cell_type": "code",
   "execution_count": 59,
   "id": "339ded20-c130-4e35-a803-ac856b302dc7",
   "metadata": {},
   "outputs": [
    {
     "name": "stdout",
     "output_type": "stream",
     "text": [
      "the length of the list is  7\n"
     ]
    }
   ],
   "source": [
    "List1 = [\"amit\", 1, 2, 3,45,\"Nikshit\", 7]\n",
    "Count = 0\n",
    "\n",
    "for i in List1:\n",
    " \n",
    "    Count = Count + 1\n",
    "\n",
    "print(\"the length of the list is \", Count)\n",
    "    "
   ]
  },
  {
   "cell_type": "code",
   "execution_count": 60,
   "id": "3a4a4d51-ea4a-4303-9fe0-4513b3e4bcf5",
   "metadata": {},
   "outputs": [],
   "source": [
    "## Append an element to the end of a list."
   ]
  },
  {
   "cell_type": "code",
   "execution_count": 61,
   "id": "40c3ffc2-67a3-493e-b807-eae6c2975895",
   "metadata": {},
   "outputs": [
    {
     "data": {
      "text/plain": [
       "[2, 3, 5, 6, 7, 'Amit']"
      ]
     },
     "execution_count": 61,
     "metadata": {},
     "output_type": "execute_result"
    }
   ],
   "source": [
    "List2 = [2,3,5,6,7]\n",
    "List2.append('Amit')\n",
    "List2"
   ]
  },
  {
   "cell_type": "code",
   "execution_count": 62,
   "id": "8f414d3b-c830-4cc5-bf0f-e086586c6d78",
   "metadata": {},
   "outputs": [],
   "source": [
    "## Insert an element at a specific index in a list."
   ]
  },
  {
   "cell_type": "code",
   "execution_count": 65,
   "id": "8c5ae40a-ab99-47a4-b747-16141fb5486a",
   "metadata": {},
   "outputs": [
    {
     "name": "stdin",
     "output_type": "stream",
     "text": [
      "Enter the position where element has to be inseted 0\n"
     ]
    },
    {
     "data": {
      "text/plain": [
       "['Amit', 3, 54, 67, 56, 9]"
      ]
     },
     "execution_count": 65,
     "metadata": {},
     "output_type": "execute_result"
    }
   ],
   "source": [
    "List3 = [3,54,67,56,9]\n",
    "n = int(input(\"Enter the position where element has to be inseted\"))\n",
    "List3.insert(n, \"Amit\")\n",
    "List3"
   ]
  },
  {
   "cell_type": "code",
   "execution_count": 66,
   "id": "6f77006d-c329-4115-8ba8-9cafdbcef63c",
   "metadata": {},
   "outputs": [],
   "source": [
    "## Remove an element from a list by its value."
   ]
  },
  {
   "cell_type": "code",
   "execution_count": 1,
   "id": "3d646820-a2d3-4a13-9c9b-3b832d6e6911",
   "metadata": {},
   "outputs": [
    {
     "data": {
      "text/plain": [
       "[3, 6, 784, 2, 2]"
      ]
     },
     "execution_count": 1,
     "metadata": {},
     "output_type": "execute_result"
    }
   ],
   "source": [
    "List4 = [3,4,6,784,2,2]\n",
    "List4.remove(4)\n",
    "List4"
   ]
  },
  {
   "cell_type": "code",
   "execution_count": 2,
   "id": "4c8e1ef2-311b-4e6c-9f27-4d4c4eae1a08",
   "metadata": {},
   "outputs": [],
   "source": [
    "## Remove an element from a list by its index"
   ]
  },
  {
   "cell_type": "code",
   "execution_count": 5,
   "id": "3ba4584b-2163-4b73-84ee-2a671aa0a643",
   "metadata": {},
   "outputs": [
    {
     "data": {
      "text/plain": [
       "[2, 5, 6, 6, 7]"
      ]
     },
     "execution_count": 5,
     "metadata": {},
     "output_type": "execute_result"
    }
   ],
   "source": [
    "List5 = [2,4,5,6,6,7]\n",
    "List5.pop(1)\n",
    "List5"
   ]
  },
  {
   "cell_type": "code",
   "execution_count": 6,
   "id": "e20ffb31-96b2-4590-beef-030204883c3f",
   "metadata": {},
   "outputs": [],
   "source": [
    "## Check if an element exists in a list."
   ]
  },
  {
   "cell_type": "code",
   "execution_count": 35,
   "id": "037258d6-ad6f-4d63-8047-d10f6b8ca3a6",
   "metadata": {},
   "outputs": [
    {
     "name": "stdout",
     "output_type": "stream",
     "text": [
      "Check if Amit is in [9, 2, 34, 2, 5, 9, 16, 'Amit']\n",
      "True\n"
     ]
    }
   ],
   "source": [
    "def check(list,element):\n",
    "    for i in list:\n",
    "         if i==element:\n",
    "             return True  \n",
    "    return False\n",
    "\n",
    "#initialise list\n",
    "li=[9, 2, 34, 2, 5, 9, 16, \"Amit\"]\n",
    "element= \"Amit\"\n",
    "\n",
    "print(\"Check if\",element,\"is in\",li)\n",
    "print(check(li,element))"
   ]
  },
  {
   "cell_type": "code",
   "execution_count": null,
   "id": "17478914-1d5f-49bc-85f9-5d180c156284",
   "metadata": {},
   "outputs": [],
   "source": [
    "## Find the index of the first occurrence of an element in a list."
   ]
  },
  {
   "cell_type": "code",
   "execution_count": 37,
   "id": "622fe396-2504-4cf3-9aa8-e5ce85b098a3",
   "metadata": {},
   "outputs": [
    {
     "data": {
      "text/plain": [
       "2"
      ]
     },
     "execution_count": 37,
     "metadata": {},
     "output_type": "execute_result"
    }
   ],
   "source": [
    "New_List = [3,4,6,5,67,9,6]\n",
    "New_List.index(6)"
   ]
  },
  {
   "cell_type": "code",
   "execution_count": 38,
   "id": "3ee621f3-d778-44d0-a83b-9384ed2555f1",
   "metadata": {},
   "outputs": [],
   "source": [
    "## Count the occurrences of an element in a list."
   ]
  },
  {
   "cell_type": "code",
   "execution_count": 2,
   "id": "58af2c72-a10f-484c-bbc7-8117f5a44c46",
   "metadata": {},
   "outputs": [
    {
     "data": {
      "text/plain": [
       "2"
      ]
     },
     "execution_count": 2,
     "metadata": {},
     "output_type": "execute_result"
    }
   ],
   "source": [
    "List4 = [3,4,5,6,\"Amit\", 474,\"Nik\",5]\n",
    "List4.count(5)"
   ]
  },
  {
   "cell_type": "code",
   "execution_count": 3,
   "id": "ca92a7a5-e5aa-4834-8dbe-d4361f50cea8",
   "metadata": {},
   "outputs": [],
   "source": [
    "## Reverse the order of elements in a list"
   ]
  },
  {
   "cell_type": "code",
   "execution_count": 4,
   "id": "be09f930-f031-46ad-91c0-955d7680fd32",
   "metadata": {},
   "outputs": [],
   "source": [
    "List5 = [2,3,4,5,6,7,8]\n",
    "List5.reverse()"
   ]
  },
  {
   "cell_type": "code",
   "execution_count": 5,
   "id": "5c12c3fa-5105-4a5c-9122-026582eed280",
   "metadata": {},
   "outputs": [
    {
     "data": {
      "text/plain": [
       "[8, 7, 6, 5, 4, 3, 2]"
      ]
     },
     "execution_count": 5,
     "metadata": {},
     "output_type": "execute_result"
    }
   ],
   "source": [
    "List5"
   ]
  },
  {
   "cell_type": "code",
   "execution_count": 6,
   "id": "e7fc031d-6e32-43b7-aaa6-37e10ff76cab",
   "metadata": {},
   "outputs": [],
   "source": [
    "## Sort a list in ascending order"
   ]
  },
  {
   "cell_type": "code",
   "execution_count": 7,
   "id": "90180172-89e8-40d8-9742-53b859110e94",
   "metadata": {},
   "outputs": [],
   "source": [
    "List6 = [3,3,4,5,100,6,9]\n",
    "List6.sort()"
   ]
  },
  {
   "cell_type": "code",
   "execution_count": 8,
   "id": "a705a478-67f0-4b46-821d-da1d350e9298",
   "metadata": {},
   "outputs": [
    {
     "data": {
      "text/plain": [
       "[3, 3, 4, 5, 6, 9, 100]"
      ]
     },
     "execution_count": 8,
     "metadata": {},
     "output_type": "execute_result"
    }
   ],
   "source": [
    "List6"
   ]
  },
  {
   "cell_type": "code",
   "execution_count": 9,
   "id": "2d3da753-b4fd-4822-aeed-2b0ba318d0a6",
   "metadata": {},
   "outputs": [],
   "source": [
    "## Sort a list in descending order"
   ]
  },
  {
   "cell_type": "code",
   "execution_count": 10,
   "id": "242ed5a5-fa49-4468-8938-11b43a59d094",
   "metadata": {},
   "outputs": [],
   "source": [
    "List7 = [3,4,78,34,12,0]\n",
    "List7.sort(reverse = True)"
   ]
  },
  {
   "cell_type": "code",
   "execution_count": 11,
   "id": "f06d5a77-6f10-482c-8c98-356bb4aebe20",
   "metadata": {},
   "outputs": [
    {
     "data": {
      "text/plain": [
       "[78, 34, 12, 4, 3, 0]"
      ]
     },
     "execution_count": 11,
     "metadata": {},
     "output_type": "execute_result"
    }
   ],
   "source": [
    "List7"
   ]
  },
  {
   "cell_type": "code",
   "execution_count": 12,
   "id": "da7b368f-7e63-47ca-88c7-979df56491f9",
   "metadata": {},
   "outputs": [],
   "source": [
    "## Create a list of even numbers from 1 to 20"
   ]
  },
  {
   "cell_type": "code",
   "execution_count": 13,
   "id": "861bff5d-e903-45cc-b081-180696401b21",
   "metadata": {},
   "outputs": [
    {
     "name": "stdout",
     "output_type": "stream",
     "text": [
      "[2, 4, 6, 8, 10, 12, 14, 16, 18, 20]\n"
     ]
    }
   ],
   "source": [
    "List = list(range(1,21))\n",
    "\n",
    "Even_List = []\n",
    "\n",
    "for i in List:\n",
    "    if i%2 == 0:\n",
    "        Even_List.append(i)\n",
    "print(Even_List)"
   ]
  },
  {
   "cell_type": "code",
   "execution_count": 14,
   "id": "a425c763-57af-4ec6-ae6c-f392417023bb",
   "metadata": {},
   "outputs": [],
   "source": [
    "## Create a list of odd numbers from 1 to 20"
   ]
  },
  {
   "cell_type": "code",
   "execution_count": 18,
   "id": "505ae14f-e52c-410e-bfcb-b21847f5df63",
   "metadata": {},
   "outputs": [
    {
     "name": "stdout",
     "output_type": "stream",
     "text": [
      "[1, 3, 5, 7, 9, 11, 13, 15, 17, 19]\n"
     ]
    }
   ],
   "source": [
    "List8  = list(range(1,21))\n",
    "\n",
    "Odd_List = []\n",
    "\n",
    "for i in List8:\n",
    "    if i % 2 != 0:\n",
    "        Odd_List.append(i)\n",
    "print(Odd_List)"
   ]
  },
  {
   "cell_type": "code",
   "execution_count": 19,
   "id": "516c7075-7072-41e0-aeab-d53129e7df65",
   "metadata": {},
   "outputs": [],
   "source": [
    "## Find the sum of all elements in a list."
   ]
  },
  {
   "cell_type": "code",
   "execution_count": 22,
   "id": "086f4536-aab3-43a8-ac62-1be6bcf4ee08",
   "metadata": {},
   "outputs": [
    {
     "name": "stdout",
     "output_type": "stream",
     "text": [
      "1717\n"
     ]
    }
   ],
   "source": [
    "List9 = [35,46,57,34,56,489,1000]\n",
    "\n",
    "Sum = 0\n",
    "\n",
    "for i in List9:\n",
    "    \n",
    "    Sum = Sum + i\n",
    "\n",
    "print(Sum)\n",
    "    "
   ]
  },
  {
   "cell_type": "code",
   "execution_count": 23,
   "id": "0838e7ee-d81d-479a-a758-175f3e57afff",
   "metadata": {},
   "outputs": [],
   "source": [
    "## Find the maximum value in a list\n"
   ]
  },
  {
   "cell_type": "code",
   "execution_count": 24,
   "id": "dd5ed88c-9331-4ffa-9cc0-178759903629",
   "metadata": {},
   "outputs": [
    {
     "data": {
      "text/plain": [
       "78"
      ]
     },
     "execution_count": 24,
     "metadata": {},
     "output_type": "execute_result"
    }
   ],
   "source": [
    "List10 = [23,34,78,56,45,78,56]\n",
    "max(List10)"
   ]
  },
  {
   "cell_type": "code",
   "execution_count": 25,
   "id": "648bf808-61b2-4d7a-b28c-c400f429bdf6",
   "metadata": {},
   "outputs": [],
   "source": [
    "## Find the minimum value in a list"
   ]
  },
  {
   "cell_type": "code",
   "execution_count": 26,
   "id": "4ee9cd6e-c5ef-4c96-b867-2030a929d90d",
   "metadata": {},
   "outputs": [
    {
     "data": {
      "text/plain": [
       "34"
      ]
     },
     "execution_count": 26,
     "metadata": {},
     "output_type": "execute_result"
    }
   ],
   "source": [
    "List11 = [34,56,78,45,67,89]\n",
    "min(List11)\n"
   ]
  },
  {
   "cell_type": "code",
   "execution_count": 27,
   "id": "0dc2919b-6887-4a1e-8f71-e4ae5d87c527",
   "metadata": {},
   "outputs": [],
   "source": [
    "## Create a list of squares of numbers from 1 to 10"
   ]
  },
  {
   "cell_type": "code",
   "execution_count": 28,
   "id": "9db62092-dd8e-4a57-949d-bb5605409ce4",
   "metadata": {},
   "outputs": [
    {
     "name": "stdout",
     "output_type": "stream",
     "text": [
      "[1, 4, 9, 16, 25, 36, 49, 64, 81, 100]\n"
     ]
    }
   ],
   "source": [
    "List12 = list(range(1,11))\n",
    "\n",
    "Squares_List = []\n",
    "\n",
    "for i in List12:\n",
    "    i = i**2\n",
    "    Squares_List.append(i)\n",
    "print(Squares_List)\n",
    "    "
   ]
  },
  {
   "cell_type": "code",
   "execution_count": 29,
   "id": "a34a065a-4649-4b5c-bfbc-33b3488e4899",
   "metadata": {},
   "outputs": [],
   "source": [
    "## Create a list of random numbers."
   ]
  },
  {
   "cell_type": "code",
   "execution_count": 7,
   "id": "8103b73d-24c3-458b-b6e7-7bb5e6b00626",
   "metadata": {},
   "outputs": [
    {
     "name": "stdout",
     "output_type": "stream",
     "text": [
      "[55, 40, 27, 89, 36, 97, 82, 94, 68, 9, 24, 96, 42, 68, 21, 68, 95, 61, 47, 84]\n"
     ]
    }
   ],
   "source": [
    "import random ## Random pacakage will be imported\n",
    "\n",
    "random_list = []\n",
    "\n",
    "for i in range(20):\n",
    "    random_numbers = random.randint(1,100) ## randit function will be used for generation of numbers\n",
    "    random_list.append(random_numbers)\n",
    "\n",
    "print(random_list)\n"
   ]
  },
  {
   "cell_type": "code",
   "execution_count": 8,
   "id": "d13dd351-61af-4eab-8346-5e34a9a009a7",
   "metadata": {},
   "outputs": [],
   "source": [
    "## Remove duplicates from a list"
   ]
  },
  {
   "cell_type": "code",
   "execution_count": 9,
   "id": "ad5c51a0-6fab-44c1-a08f-d1fc6ac6cf8c",
   "metadata": {},
   "outputs": [
    {
     "data": {
      "text/plain": [
       "[2, 67, 66, 6, 8, 45, 23]"
      ]
     },
     "execution_count": 9,
     "metadata": {},
     "output_type": "execute_result"
    }
   ],
   "source": [
    "List13 = [2,2,45,67,67,8,23,6,66]\n",
    "List_without_duplicates = list(set(List13)) ## converting the list into set for no6t having duplicates\n",
    "List_without_duplicates "
   ]
  },
  {
   "cell_type": "code",
   "execution_count": 10,
   "id": "6f391968-9fb9-4324-9642-d282348ad83d",
   "metadata": {},
   "outputs": [],
   "source": [
    "## Find the common elements between two lists"
   ]
  },
  {
   "cell_type": "code",
   "execution_count": 12,
   "id": "efe86fee-21de-4857-aac1-7011efbaa16c",
   "metadata": {},
   "outputs": [
    {
     "data": {
      "text/plain": [
       "[2, 1, 5, 78, 45, 78]"
      ]
     },
     "execution_count": 12,
     "metadata": {},
     "output_type": "execute_result"
    }
   ],
   "source": [
    "L1 = [1,2,4,5,3,4,6,78,89]\n",
    "L2 = [2,1,5,78,45,78]\n",
    "Common_Elements = L1 and L2\n",
    "Common_Elements"
   ]
  },
  {
   "cell_type": "code",
   "execution_count": 13,
   "id": "cf918b35-7268-4ac2-b19e-77da5ccb2537",
   "metadata": {},
   "outputs": [],
   "source": [
    " ## Find the difference between two lists"
   ]
  },
  {
   "cell_type": "code",
   "execution_count": 27,
   "id": "19873d4d-7a4a-4a14-97e0-0ea0b6c5db63",
   "metadata": {},
   "outputs": [
    {
     "data": {
      "text/plain": [
       "[1, 3, 5]"
      ]
     },
     "execution_count": 27,
     "metadata": {},
     "output_type": "execute_result"
    }
   ],
   "source": [
    "L3 = [1,2,3,4,5]\n",
    "L4 = [2,4,6,8,10]\n",
    "Set_Difference = set(L3).difference(set(L4)) ## converting list into set and then find out the difference\n",
    "List_Difference = list(Set_Difference)\n",
    "List_Difference "
   ]
  },
  {
   "cell_type": "code",
   "execution_count": 28,
   "id": "9d910192-1d32-4b2d-98c3-a5894983a792",
   "metadata": {},
   "outputs": [],
   "source": [
    "## Merge two lists"
   ]
  },
  {
   "cell_type": "code",
   "execution_count": 50,
   "id": "2f744491-3bd9-4b07-ad28-743cbd9d8d09",
   "metadata": {},
   "outputs": [
    {
     "data": {
      "text/plain": [
       "[2, 3, 4, 5, 67, 56, 7, 8, 9, 10, 11]"
      ]
     },
     "execution_count": 50,
     "metadata": {},
     "output_type": "execute_result"
    }
   ],
   "source": [
    "L5 = [2,3,4,5,67,56]\n",
    "L6 = [7,8,9,10,11]\n",
    "\n",
    "Merged_list = L5 + L6\n",
    "\n",
    "Merged_list\n",
    "\n",
    "\n",
    "\n",
    "\n",
    "\n"
   ]
  },
  {
   "cell_type": "code",
   "execution_count": 1,
   "id": "9e0a7fe2-957e-45fa-94a6-1d2f11b8c21e",
   "metadata": {},
   "outputs": [],
   "source": [
    "#  Multiply all elements in a list by 2.\n"
   ]
  },
  {
   "cell_type": "code",
   "execution_count": 3,
   "id": "21e9f9e9-a55b-40c4-b93f-4de75f0b500d",
   "metadata": {},
   "outputs": [
    {
     "name": "stdout",
     "output_type": "stream",
     "text": [
      "[2, 4, 8, 8, 10, 12, 134, 18]\n"
     ]
    }
   ],
   "source": [
    "List7 = [1,2,4,4,5,6,67,9]\n",
    "New_list = []\n",
    "\n",
    "for i in List7:\n",
    "    i = i * 2\n",
    "    New_list.append(i)\n",
    "print(New_list)"
   ]
  },
  {
   "cell_type": "code",
   "execution_count": 4,
   "id": "b28ba82b-ecbd-4d4a-a912-d63cf97f983b",
   "metadata": {},
   "outputs": [],
   "source": [
    "# Filter out all even numbers from a list."
   ]
  },
  {
   "cell_type": "code",
   "execution_count": 5,
   "id": "21e6dca2-b8f7-43a6-aa6a-8b9ac1ae4029",
   "metadata": {},
   "outputs": [
    {
     "name": "stdout",
     "output_type": "stream",
     "text": [
      "[2, 4, 8, 8]\n"
     ]
    }
   ],
   "source": [
    "List8 = [2,4,5,7,8,23,9,8]\n",
    "\n",
    "EvenNumberList = []\n",
    "\n",
    "for i in List8:\n",
    "    if i % 2 == 0:\n",
    "        EvenNumberList.append(i)\n",
    "print(EvenNumberList)\n",
    "        "
   ]
  },
  {
   "cell_type": "code",
   "execution_count": 6,
   "id": "3fae33ff-11bd-4f2b-b7a8-270ce48100cf",
   "metadata": {},
   "outputs": [],
   "source": [
    "#Convert a list of strings to a list of integers"
   ]
  },
  {
   "cell_type": "code",
   "execution_count": 14,
   "id": "c2725d10-82aa-4b84-8c44-4bb171d21bc5",
   "metadata": {},
   "outputs": [
    {
     "name": "stdout",
     "output_type": "stream",
     "text": [
      "[1, 2, 3, 4, 5]\n"
     ]
    }
   ],
   "source": [
    "List_of_Strings = [\"1\", \"2\", \"3\", \"4\", \"5\"]\n",
    "\n",
    "List_of_Integers = []\n",
    "\n",
    "for i in List_of_Strings:\n",
    "    Intergers = int(i)\n",
    "    List_of_Integers.append(Intergers)\n",
    "print(List_of_Integers)"
   ]
  },
  {
   "cell_type": "code",
   "execution_count": 15,
   "id": "d1fe0c88-b005-47f8-85f5-6a89ff816a71",
   "metadata": {},
   "outputs": [],
   "source": [
    "## Convert a list of integers to a list of strings"
   ]
  },
  {
   "cell_type": "code",
   "execution_count": 16,
   "id": "a922df44-e866-4267-8d81-84c23c6b336f",
   "metadata": {},
   "outputs": [
    {
     "name": "stdout",
     "output_type": "stream",
     "text": [
      "['1', '2', '3', '45', '4']\n"
     ]
    }
   ],
   "source": [
    "List_Of_Integers = [1,2,3,45,4]\n",
    "\n",
    "List_Of_String = []\n",
    "\n",
    "for i in List_Of_Integers:\n",
    "    String = str(i)\n",
    "    List_Of_String.append(String)\n",
    "print(List_Of_String)\n",
    "    \n",
    "    "
   ]
  },
  {
   "cell_type": "code",
   "execution_count": 17,
   "id": "1a110158-c26f-4bdc-88a0-a8cc5493be25",
   "metadata": {},
   "outputs": [],
   "source": [
    "## Flatten a nested list"
   ]
  },
  {
   "cell_type": "code",
   "execution_count": 19,
   "id": "97f1082d-4eda-4b99-a934-97d357fe7976",
   "metadata": {},
   "outputs": [
    {
     "name": "stdout",
     "output_type": "stream",
     "text": [
      "[1, 223, 4, 5, 3, 4, 5, 6]\n"
     ]
    }
   ],
   "source": [
    "My_List = [[1], [223,4,5], [3,4,5,6]]\n",
    "\n",
    "Flatted_list = []\n",
    "\n",
    "for sublist in My_List:\n",
    "    for i in sublist:\n",
    "        Flatted_list.append(i)\n",
    "print(Flatted_list)"
   ]
  },
  {
   "cell_type": "code",
   "execution_count": 20,
   "id": "45930aaf-d492-48cc-83f5-f273b7e72143",
   "metadata": {},
   "outputs": [],
   "source": [
    "## Create a list of the first 10 Fibonacci numbers"
   ]
  },
  {
   "cell_type": "code",
   "execution_count": 45,
   "id": "f96d620c-da80-494b-b44b-b84ef87a572d",
   "metadata": {},
   "outputs": [
    {
     "name": "stdout",
     "output_type": "stream",
     "text": [
      "[0, 1, 1, 2, 3, 5, 8, 13, 21, 34]\n"
     ]
    }
   ],
   "source": [
    "Fibonacci_List = [0] ## initialize the list to zero\n",
    "\n",
    "a, b = 0, 1\n",
    "\n",
    "for i in range(1,10):\n",
    "    a , b = b, a+b\n",
    "    Fibonacci_List.append(a)\n",
    "print(Fibonacci_List)\n",
    "    \n",
    "    \n",
    "     \n",
    "\n",
    "\n",
    "\n",
    "    \n",
    "    \n"
   ]
  },
  {
   "cell_type": "code",
   "execution_count": 36,
   "id": "7831e969-807c-4866-99e9-399b157e57cd",
   "metadata": {},
   "outputs": [
    {
     "data": {
      "text/plain": [
       "[1, 1, 2, 3, 5, 8, 13, 21, 34, 55]"
      ]
     },
     "execution_count": 36,
     "metadata": {},
     "output_type": "execute_result"
    }
   ],
   "source": [
    "Fibonacci(10)"
   ]
  },
  {
   "cell_type": "code",
   "execution_count": 1,
   "id": "2a93a357-8698-44f0-b72c-7284f599c056",
   "metadata": {},
   "outputs": [],
   "source": [
    "## Check if a list is sorted.\n",
    "    "
   ]
  },
  {
   "cell_type": "code",
   "execution_count": 43,
   "id": "d133f36b-c519-4a5b-872e-9047969ceb61",
   "metadata": {},
   "outputs": [],
   "source": [
    "def Sorted_list(list16):\n",
    "    \n",
    "    for i in range(len(list16)-1):\n",
    "        if list16[i] > list16[i+1]:\n",
    "            return False\n",
    "    return True\n",
    "\n",
    "list16 = [1,2,3,4,5]\n",
    "\n",
    "    \n",
    "    "
   ]
  },
  {
   "cell_type": "code",
   "execution_count": 44,
   "id": "a609b93f-85bb-4317-963e-d6d812f63190",
   "metadata": {},
   "outputs": [
    {
     "data": {
      "text/plain": [
       "True"
      ]
     },
     "execution_count": 44,
     "metadata": {},
     "output_type": "execute_result"
    }
   ],
   "source": [
    "Sorted_list(list16)"
   ]
  },
  {
   "cell_type": "code",
   "execution_count": 45,
   "id": "b73bbcd3-e83d-46ca-9eeb-bdba7fdc9ad0",
   "metadata": {},
   "outputs": [],
   "source": [
    "## Create a list of prime numbers up to 50"
   ]
  },
  {
   "cell_type": "code",
   "execution_count": 1,
   "id": "5117df6a-b3d0-4de7-b14c-6b8d51b3f0c9",
   "metadata": {},
   "outputs": [
    {
     "name": "stdout",
     "output_type": "stream",
     "text": [
      "[2, 3, 5, 7, 11, 13, 17, 19, 23, 29, 31, 37, 41, 43, 47]\n"
     ]
    }
   ],
   "source": [
    "primes = []\n",
    "for i in range(2, 51):\n",
    "    for j in range(2, int(i**0.5) + 1):\n",
    "        if i % j == 0:\n",
    "            break\n",
    "    else:\n",
    "        primes.append(i)\n",
    "\n",
    "print(primes)"
   ]
  },
  {
   "cell_type": "code",
   "execution_count": 2,
   "id": "1ba444e8-a735-4c0f-9ebc-58106dddd357",
   "metadata": {},
   "outputs": [],
   "source": [
    "## Split a list into chunks of size `n`."
   ]
  },
  {
   "cell_type": "code",
   "execution_count": 7,
   "id": "a1b57d4d-4f88-4c18-864b-e61352e58156",
   "metadata": {},
   "outputs": [
    {
     "name": "stdin",
     "output_type": "stream",
     "text": [
      "Enter the chunk size 3\n"
     ]
    },
    {
     "name": "stdout",
     "output_type": "stream",
     "text": [
      "[[1], [4], [7], [10]]\n"
     ]
    }
   ],
   "source": [
    "list19 = [1, 2, 3, 4, 5, 6, 7, 8, 9, 10]\n",
    "Chunk_size = int(input(\"Enter the chunk size\"))\n",
    "\n",
    "Chunk = [list19[i:i+1]  for i in range(0, len(list19), Chunk_size)]\n",
    "print(Chunk)\n",
    "                                        "
   ]
  },
  {
   "cell_type": "code",
   "execution_count": 8,
   "id": "355adf1f-b36c-46ae-ad06-51020a1b5eaa",
   "metadata": {},
   "outputs": [],
   "source": [
    "## Find the second largest number in a list"
   ]
  },
  {
   "cell_type": "code",
   "execution_count": 2,
   "id": "5759cd28-0c34-4aa4-9bac-ed0f4c28e08d",
   "metadata": {},
   "outputs": [
    {
     "name": "stdout",
     "output_type": "stream",
     "text": [
      "The second largest element in list is  50\n"
     ]
    }
   ],
   "source": [
    "list20 = [1,2,3,4,54,5,5,50\n",
    "         ]\n",
    "Sorted_list = sorted(list20)\n",
    "print(\"The second largest element in list is \", Sorted_list[-2])"
   ]
  },
  {
   "cell_type": "code",
   "execution_count": 3,
   "id": "569dea02-d321-4216-a4fd-4dd219631511",
   "metadata": {},
   "outputs": [],
   "source": [
    "## Replace every element in a list with its square"
   ]
  },
  {
   "cell_type": "code",
   "execution_count": 4,
   "id": "7b2d58ca-7a5e-4040-a5e7-fbaab8a6faec",
   "metadata": {},
   "outputs": [
    {
     "name": "stdout",
     "output_type": "stream",
     "text": [
      "[529, 16, 25, 4, 4489, 6084]\n"
     ]
    }
   ],
   "source": [
    "list21 = [23,4,5,2,67,78]\n",
    "Squared_list = []\n",
    "for i in list21:\n",
    "    Squared_list.append(i**2)\n",
    "print(Squared_list)"
   ]
  },
  {
   "cell_type": "code",
   "execution_count": 6,
   "id": "459c4211-61b7-4c94-8c83-4eba1e505fea",
   "metadata": {},
   "outputs": [],
   "source": [
    "## Convert a list to a dictionary where list elements become keys and their\n",
    "##indices become values."
   ]
  },
  {
   "cell_type": "code",
   "execution_count": 20,
   "id": "2009d6db-0538-45ce-9f31-2c3bf38b35d6",
   "metadata": {},
   "outputs": [
    {
     "data": {
      "text/plain": [
       "{'Amit': 0, 5: 1, 2: 2, 3: 3, 4: 4}"
      ]
     },
     "execution_count": 20,
     "metadata": {},
     "output_type": "execute_result"
    }
   ],
   "source": [
    "List22 = [\"Amit\", 5, 2, 3,4]\n",
    "\n",
    "Dict = {j:i for i, j in enumerate(List22)} ## By using enumerate function, to access both the index and the value of an item in an iterable.\n",
    "\n",
    "\n",
    "Dict\n",
    "\n",
    "\n",
    "\n",
    "\n",
    "\n",
    "\n",
    "            \n",
    "    "
   ]
  },
  {
   "cell_type": "code",
   "execution_count": 21,
   "id": "1b8512b8-896a-441e-86ab-251dbf33cd73",
   "metadata": {},
   "outputs": [],
   "source": [
    "## Shuffle the elements of a list randomly"
   ]
  },
  {
   "cell_type": "code",
   "execution_count": 27,
   "id": "b7d735e1-fd69-421b-ad61-10c6a8e6c25e",
   "metadata": {},
   "outputs": [
    {
     "data": {
      "text/plain": [
       "[23, 56, 45, 12, 4, 56]"
      ]
     },
     "execution_count": 27,
     "metadata": {},
     "output_type": "execute_result"
    }
   ],
   "source": [
    "import random ## Need to import random function\n",
    "List23 = [23,45,56,12,4,56]\n",
    "Shuffled_List = random.sample(List23, len(List23)) ## The random.sample() function returns a shuffled list of a specified size.\n",
    "Shuffled_List"
   ]
  },
  {
   "cell_type": "code",
   "execution_count": 28,
   "id": "0193a235-4175-460c-882f-ddd7d3f25e92",
   "metadata": {},
   "outputs": [],
   "source": [
    "## 39. Create a list of the first 10 factorial numbers."
   ]
  },
  {
   "cell_type": "code",
   "execution_count": 5,
   "id": "0e2fe9ae-1c5b-4e6b-ace4-c80e987d04e6",
   "metadata": {},
   "outputs": [
    {
     "data": {
      "text/plain": [
       "[1, 2, 6, 24, 120, 720, 5040, 40320, 362880, 3628800]"
      ]
     },
     "execution_count": 5,
     "metadata": {},
     "output_type": "execute_result"
    }
   ],
   "source": [
    "Factorial_Num_List = []\n",
    "fact = 1\n",
    "for i in range(1,11):\n",
    "    fact = fact * i\n",
    "    Factorial_Num_List.append(fact)\n",
    "Factorial_Num_List\n",
    "    \n"
   ]
  },
  {
   "cell_type": "code",
   "execution_count": 6,
   "id": "7b81bb0d-98cd-44ea-b8a2-adb9521a2512",
   "metadata": {},
   "outputs": [],
   "source": [
    "## Check if two lists have at least one element in common.\n"
   ]
  },
  {
   "cell_type": "code",
   "execution_count": 28,
   "id": "7bd01997-d41d-470a-8ff2-aa203d599936",
   "metadata": {},
   "outputs": [
    {
     "name": "stdout",
     "output_type": "stream",
     "text": [
      "Elements are not common\n"
     ]
    }
   ],
   "source": [
    "L1 = [1,2,3,4,5,6]\n",
    "L2 = [7,8,9,10,11,12]\n",
    "\n",
    "set1 = set(L1) ## Coverting thr list into sets to get common value\n",
    "set2 = set(L2)\n",
    "\n",
    "if set1.intersection(set2): ## intersection function is used to find common ellemnts\n",
    "    print(\"Elements are common\")\n",
    "else:\n",
    "    print(\"Elements are not common\")\n",
    "\n",
    "    "
   ]
  },
  {
   "cell_type": "code",
   "execution_count": 29,
   "id": "ac57a58f-9923-4312-952d-99c8b828023a",
   "metadata": {},
   "outputs": [],
   "source": [
    "## Remove all elements from a list.\n"
   ]
  },
  {
   "cell_type": "code",
   "execution_count": 30,
   "id": "c8e18624-1db9-4fe6-b0c0-b5061902a596",
   "metadata": {},
   "outputs": [],
   "source": [
    "L3 = [3,3,5,4,5]\n",
    "L3.clear()"
   ]
  },
  {
   "cell_type": "code",
   "execution_count": 31,
   "id": "2513e88f-f2ea-4f80-99f1-ceaac1a1969e",
   "metadata": {},
   "outputs": [
    {
     "data": {
      "text/plain": [
       "[]"
      ]
     },
     "execution_count": 31,
     "metadata": {},
     "output_type": "execute_result"
    }
   ],
   "source": [
    "L3"
   ]
  },
  {
   "cell_type": "code",
   "execution_count": 32,
   "id": "f759e70b-3b01-4682-8d2f-9629fad2606d",
   "metadata": {},
   "outputs": [],
   "source": [
    "## Replace negative numbers in a list with 0"
   ]
  },
  {
   "cell_type": "code",
   "execution_count": 73,
   "id": "4583df3e-0cba-4c8a-8301-e9621d22ac97",
   "metadata": {},
   "outputs": [
    {
     "data": {
      "text/plain": [
       "[1, 0, 34, 0, 34]"
      ]
     },
     "execution_count": 73,
     "metadata": {},
     "output_type": "execute_result"
    }
   ],
   "source": [
    "L4 = [1,-3,34,-5,34]\n",
    "\n",
    "Updated_List =  [0 if i < 0 else i for i in L4] ## Using List Comprehension\n",
    "\n",
    "Updated_List \n",
    "\n",
    "        \n",
    "\n",
    "\n",
    "\n",
    "\n",
    "     \n",
    "\n",
    "        \n",
    "        "
   ]
  },
  {
   "cell_type": "code",
   "execution_count": 74,
   "id": "08646c43-be3e-4b4b-85be-ffedf390bd18",
   "metadata": {},
   "outputs": [],
   "source": [
    "## Convert a string into a list of words.\n"
   ]
  },
  {
   "cell_type": "code",
   "execution_count": 77,
   "id": "045806ac-4ee6-43da-ae3e-0baa772a7174",
   "metadata": {},
   "outputs": [],
   "source": [
    "New_Str = \"I am good\".split() ## Using Split function"
   ]
  },
  {
   "cell_type": "code",
   "execution_count": 76,
   "id": "062c7b15-8bb8-4dfe-b52d-fe6e5b866d59",
   "metadata": {},
   "outputs": [
    {
     "data": {
      "text/plain": [
       "['I', 'am', 'good']"
      ]
     },
     "execution_count": 76,
     "metadata": {},
     "output_type": "execute_result"
    }
   ],
   "source": [
    "New_Str"
   ]
  },
  {
   "cell_type": "code",
   "execution_count": 78,
   "id": "a0a53419-d56c-4b1d-b8d4-0897b4f41e73",
   "metadata": {},
   "outputs": [],
   "source": [
    "## Convert a list of words into a string.\n"
   ]
  },
  {
   "cell_type": "code",
   "execution_count": 4,
   "id": "aa9e9e86-8bdd-4df8-9601-bd25e2d251f5",
   "metadata": {},
   "outputs": [
    {
     "data": {
      "text/plain": [
       "'Amit is a good boy'"
      ]
     },
     "execution_count": 4,
     "metadata": {},
     "output_type": "execute_result"
    }
   ],
   "source": [
    "New_List = [\"Amit\", \"is\", \"a\", \"good\", \"boy\"]\n",
    "Final_Str = \" \".join(New_List) ## Join  funtion will be used to do the same\n",
    "Final_Str"
   ]
  },
  {
   "cell_type": "code",
   "execution_count": 5,
   "id": "e3778c13-2380-45e7-a325-f89b2cf962ae",
   "metadata": {},
   "outputs": [],
   "source": [
    "## Create a list of the first `n` powers of 2."
   ]
  },
  {
   "cell_type": "code",
   "execution_count": 8,
   "id": "def5e8fa-925f-49a2-9223-0348f1492019",
   "metadata": {},
   "outputs": [
    {
     "data": {
      "text/plain": [
       "[1, 4, 9, 16, 25, 36, 49, 64, 81, 100]"
      ]
     },
     "execution_count": 8,
     "metadata": {},
     "output_type": "execute_result"
    }
   ],
   "source": [
    "Initial_List = list(range(1,11))\n",
    "Final_List = [i**2 for i in Initial_List]\n",
    "Final_List"
   ]
  },
  {
   "cell_type": "code",
   "execution_count": 9,
   "id": "f87031db-dd7b-4463-b8d4-8bebe35a747c",
   "metadata": {},
   "outputs": [],
   "source": [
    "## Find the longest string in a list of strings"
   ]
  },
  {
   "cell_type": "code",
   "execution_count": 34,
   "id": "c13a8447-4e29-4ed5-a384-b75100a67c9d",
   "metadata": {},
   "outputs": [
    {
     "data": {
      "text/plain": [
       "'Amit Junior'"
      ]
     },
     "execution_count": 34,
     "metadata": {},
     "output_type": "execute_result"
    }
   ],
   "source": [
    "List_of_strings = [\"Amit\", \"Nikshit\", \"Amit Junior\"]\n",
    "\n",
    "Longest_Str = max(List_of_strings, key = len) ## max function is used and give len as the key\n",
    "\n",
    "Longest_Str \n",
    "\n",
    "        \n",
    "\n",
    "\n",
    "\n",
    "    "
   ]
  },
  {
   "cell_type": "code",
   "execution_count": 35,
   "id": "bda1d07c-dea1-4555-b28c-01f9f2662ff8",
   "metadata": {},
   "outputs": [],
   "source": [
    "## Find the shortest string in a list of strings"
   ]
  },
  {
   "cell_type": "code",
   "execution_count": 36,
   "id": "8406b019-c567-4b76-a669-57f55179a152",
   "metadata": {},
   "outputs": [
    {
     "data": {
      "text/plain": [
       "'Amit'"
      ]
     },
     "execution_count": 36,
     "metadata": {},
     "output_type": "execute_result"
    }
   ],
   "source": [
    "List_Str = [\"Amit\", \"Nikshit\", \"Amit Junior\"]\n",
    "\n",
    "Shortest_Str = min(List_Str, key = len)\n",
    "\n",
    "Shortest_Str"
   ]
  },
  {
   "cell_type": "code",
   "execution_count": 37,
   "id": "009826ff-793b-4ebd-9a84-54956d18c041",
   "metadata": {},
   "outputs": [],
   "source": [
    "## Create a list of the first `n` triangular numbers"
   ]
  },
  {
   "cell_type": "code",
   "execution_count": 9,
   "id": "8de57a82-b600-47e0-a595-eefab606a00e",
   "metadata": {},
   "outputs": [
    {
     "name": "stdin",
     "output_type": "stream",
     "text": [
      "Enter the triangular numbers for which you want to create list 10\n"
     ]
    },
    {
     "data": {
      "text/plain": [
       "[1, 3, 6, 10, 15, 21, 28, 36, 45, 55]"
      ]
     },
     "execution_count": 9,
     "metadata": {},
     "output_type": "execute_result"
    }
   ],
   "source": [
    "Numbers = int(input(\"Enter the triangular numbers for which you want to create list\"))\n",
    "\n",
    "triangular_numbers_list = []\n",
    "\n",
    "for i in range(1, Numbers + 1):\n",
    "    triangular_numbers_list.append(i * (i+1)//2)\n",
    "triangular_numbers_list\n",
    "\n",
    "\n"
   ]
  },
  {
   "cell_type": "code",
   "execution_count": 10,
   "id": "eec1bcd2-e57d-4c81-9162-6c527bd884bd",
   "metadata": {},
   "outputs": [],
   "source": [
    "## Check if a list contains another list as a subsequence"
   ]
  },
  {
   "cell_type": "code",
   "execution_count": 3,
   "id": "554b90d1-4bf1-4cf2-bcf2-c36727201b72",
   "metadata": {},
   "outputs": [
    {
     "name": "stdout",
     "output_type": "stream",
     "text": [
      "Main list is [1, 2, 3, [12, 34, 45, 67], 'Amit']\n",
      "Subset_list is [4, 5, 6, 7, 8]\n",
      "No, list is not subset of other.\n"
     ]
    }
   ],
   "source": [
    "Main_List = [1,2,3, [12,34,45,67], \"Amit\"]\n",
    "Subset_List = [4,5,6,7,8]\n",
    "\n",
    "print(\"Main list is\", Main_List)\n",
    "print(\"Subset_list is\", Subset_List)\n",
    "\n",
    "flag = 0\n",
    "\n",
    "## All() function is used to Check for all the elements of one list for existence in other lists. \n",
    "\n",
    "if (all(i in Main_List for i in Subset_List)): ## \n",
    "    flag = 1\n",
    "\n",
    "if (flag):\n",
    "    print(\"Yes, list is subset of other.\")\n",
    "else:\n",
    "    print(\"No, list is not subset of other.\")\n",
    "    "
   ]
  },
  {
   "cell_type": "code",
   "execution_count": 4,
   "id": "f90ca033-df3b-467b-8844-af256c75511c",
   "metadata": {},
   "outputs": [],
   "source": [
    "## Swap two elements in a list by their indices"
   ]
  },
  {
   "cell_type": "code",
   "execution_count": 17,
   "id": "38bdad51-47d1-41d4-adee-da52fce64c3c",
   "metadata": {},
   "outputs": [
    {
     "data": {
      "text/plain": [
       "[12, 3, 2, 4]"
      ]
     },
     "execution_count": 17,
     "metadata": {},
     "output_type": "execute_result"
    }
   ],
   "source": [
    "def Swap_elements(List, index1, index2):\n",
    "    temp = List[index1]\n",
    "    List[index1] = List[index2]\n",
    "    List[index2] = temp\n",
    "    return List\n",
    "\n",
    "    \n",
    "Swap_elements([12,2,3,4], 1, 2)\n",
    "\n",
    "\n",
    "    \n",
    "    \n"
   ]
  },
  {
   "cell_type": "code",
   "execution_count": 18,
   "id": "887f74e5-8afc-42db-bef3-00306f4fcc17",
   "metadata": {},
   "outputs": [],
   "source": [
    "## Tuple Practise"
   ]
  },
  {
   "cell_type": "code",
   "execution_count": 19,
   "id": "a722daf7-430c-4031-9b75-e1ecefac44b6",
   "metadata": {},
   "outputs": [],
   "source": [
    "## Create a tuple with integers from 1 to 5."
   ]
  },
  {
   "cell_type": "code",
   "execution_count": 27,
   "id": "eda1030a-76fd-4fb4-b5d9-240be7fe9995",
   "metadata": {},
   "outputs": [
    {
     "data": {
      "text/plain": [
       "(1, 2, 3, 4, 5)"
      ]
     },
     "execution_count": 27,
     "metadata": {},
     "output_type": "execute_result"
    }
   ],
   "source": [
    "New_tuple = tuple(range(1,6))\n",
    "New_tuple\n"
   ]
  },
  {
   "cell_type": "code",
   "execution_count": 28,
   "id": "b84fab1f-9414-408b-8380-e321386b0814",
   "metadata": {},
   "outputs": [],
   "source": [
    "## Access the third element of a tuple"
   ]
  },
  {
   "cell_type": "code",
   "execution_count": 29,
   "id": "6d8e0aaf-0b3e-4031-9643-57197770002b",
   "metadata": {},
   "outputs": [
    {
     "data": {
      "text/plain": [
       "3"
      ]
     },
     "execution_count": 29,
     "metadata": {},
     "output_type": "execute_result"
    }
   ],
   "source": [
    "New_Tuple1 = (1,2,3,4,5,7)\n",
    "New_Tuple1[2]"
   ]
  },
  {
   "cell_type": "code",
   "execution_count": 30,
   "id": "bce5e544-6ab5-46b2-a5a0-1a4f2e08b747",
   "metadata": {},
   "outputs": [],
   "source": [
    "## Find the length of a tuple without using the `len()` function."
   ]
  },
  {
   "cell_type": "code",
   "execution_count": 32,
   "id": "ecbba7bf-452b-418f-90e7-419867674711",
   "metadata": {},
   "outputs": [
    {
     "name": "stdout",
     "output_type": "stream",
     "text": [
      "7\n"
     ]
    }
   ],
   "source": [
    "New_Tuple2 = (2,3,34,56,78,34,45)\n",
    "Count = 0\n",
    "for i in New_Tuple2:\n",
    "    Count = Count + 1\n",
    "print(Count)"
   ]
  },
  {
   "cell_type": "code",
   "execution_count": 33,
   "id": "38ee6826-449c-45d2-b41d-ebb6caa5d3ca",
   "metadata": {},
   "outputs": [],
   "source": [
    "## Count the occurrences of an element in a tuple"
   ]
  },
  {
   "cell_type": "code",
   "execution_count": 38,
   "id": "8ffb8d65-2ffb-4ab3-b8dd-f060d5766381",
   "metadata": {},
   "outputs": [
    {
     "name": "stdin",
     "output_type": "stream",
     "text": [
      "Enter the element to be counted 7\n"
     ]
    },
    {
     "name": "stdout",
     "output_type": "stream",
     "text": [
      "The count of an element is  3\n"
     ]
    }
   ],
   "source": [
    "New_tuple = (23,45,6,6,7,7,7,8)\n",
    "Input_Element = int(input(\"Enter the element to be counted\"))\n",
    "\n",
    "Count = 0\n",
    "\n",
    "for i in New_tuple:\n",
    "    if i == Input_Element:\n",
    "        \n",
    "        Count = Count + 1\n",
    "print(\"The count of an element is \", Count)"
   ]
  },
  {
   "cell_type": "code",
   "execution_count": 39,
   "id": "0553f948-f66b-4a10-a7a1-fc1447c69bec",
   "metadata": {},
   "outputs": [],
   "source": [
    "## Find the index of the first occurrence of an element in a tuple.\n"
   ]
  },
  {
   "cell_type": "code",
   "execution_count": 54,
   "id": "a39963b1-5786-4295-8f25-92713acc8649",
   "metadata": {},
   "outputs": [
    {
     "name": "stdin",
     "output_type": "stream",
     "text": [
      "Enter the element whose index has to be searched for 3\n"
     ]
    },
    {
     "data": {
      "text/plain": [
       "2"
      ]
     },
     "execution_count": 54,
     "metadata": {},
     "output_type": "execute_result"
    }
   ],
   "source": [
    "New_tuple1 = (1,2,3,3,45,45,67,78)\n",
    "element = int(input(\"Enter the element whose index has to be searched for\"))\n",
    "\n",
    "for i in New_tuple1:\n",
    "    if i == element:\n",
    "        First_Occurance_index = New_tuple1.index(i)\n",
    "First_Occurance_index\n",
    "\n",
    "    \n",
    "\n",
    "      \n",
    "    "
   ]
  },
  {
   "cell_type": "code",
   "execution_count": 55,
   "id": "856bc27f-2b4b-48ea-a2de-76b6ccdc84d4",
   "metadata": {},
   "outputs": [],
   "source": [
    "## Check if an element exists in a tuple"
   ]
  },
  {
   "cell_type": "code",
   "execution_count": 72,
   "id": "2cc662fb-80ba-45cb-9ab4-a884ddbc2b1d",
   "metadata": {},
   "outputs": [
    {
     "name": "stdin",
     "output_type": "stream",
     "text": [
      "Enter the element whose index has to be searched for 10\n"
     ]
    },
    {
     "name": "stdout",
     "output_type": "stream",
     "text": [
      "Element is not present in tuple\n"
     ]
    }
   ],
   "source": [
    "New_tuple2 = (12,34,5,6,67)\n",
    "element = float(input(\"Enter the element whose index has to be searched for\"))\n",
    "if element in New_tuple2:\n",
    "    print(\"element is present in tuple\")\n",
    "else:\n",
    "    print(\"Element is not present in tuple\")\n",
    "        \n",
    "    "
   ]
  },
  {
   "cell_type": "code",
   "execution_count": 73,
   "id": "48e5cb43-b3f4-4293-a7c4-e152c7b8b29a",
   "metadata": {},
   "outputs": [],
   "source": [
    "## Convert a tuple to a list"
   ]
  },
  {
   "cell_type": "code",
   "execution_count": 74,
   "id": "8ef05efa-8545-4c38-bba4-edad55b2b355",
   "metadata": {},
   "outputs": [
    {
     "data": {
      "text/plain": [
       "[23, 45, 6, 77, 34]"
      ]
     },
     "execution_count": 74,
     "metadata": {},
     "output_type": "execute_result"
    }
   ],
   "source": [
    "New_tuple3 = (23,45,6,77,34)\n",
    "New_List = list(New_tuple3)\n",
    "New_List"
   ]
  },
  {
   "cell_type": "code",
   "execution_count": 1,
   "id": "6ec4babf-37c1-46d6-a717-e9a5da2ec557",
   "metadata": {},
   "outputs": [],
   "source": [
    "## Convert a list to a tuple.\n"
   ]
  },
  {
   "cell_type": "code",
   "execution_count": 3,
   "id": "96f1cc4c-f773-4772-81db-58887649315b",
   "metadata": {},
   "outputs": [
    {
     "data": {
      "text/plain": [
       "(23, 4, 4, 56, 78)"
      ]
     },
     "execution_count": 3,
     "metadata": {},
     "output_type": "execute_result"
    }
   ],
   "source": [
    "New_List = [23,4,4,56,78]\n",
    "New_Tuple4 = tuple(New_List)\n",
    "New_Tuple4"
   ]
  },
  {
   "cell_type": "code",
   "execution_count": 4,
   "id": "52d17dee-b27b-4109-a0fc-4d0cd8d31421",
   "metadata": {},
   "outputs": [],
   "source": [
    "## Unpack the elements of a tuple into variables"
   ]
  },
  {
   "cell_type": "code",
   "execution_count": 7,
   "id": "ad84ea8f-916f-47a8-b7c4-fda15f59fc90",
   "metadata": {},
   "outputs": [
    {
     "name": "stdout",
     "output_type": "stream",
     "text": [
      "apple\n",
      "banana\n",
      "orange\n"
     ]
    }
   ],
   "source": [
    "fruits = (\"apple\", \"banana\", \"orange\")\n",
    "fruit1, fruit2, fruit3 = fruits\n",
    "print(fruit1)\n",
    "print(fruit2)\n",
    "print(fruit3)"
   ]
  },
  {
   "cell_type": "code",
   "execution_count": 8,
   "id": "79e6d0c4-17a9-4e15-b483-0509bf5bbd8c",
   "metadata": {},
   "outputs": [],
   "source": [
    "## Create a tuple of even numbers from 1 to 10"
   ]
  },
  {
   "cell_type": "code",
   "execution_count": 12,
   "id": "4d4c40c5-a7a1-4617-b997-d06162cb7838",
   "metadata": {},
   "outputs": [
    {
     "data": {
      "text/plain": [
       "(2, 4, 6, 8, 10)"
      ]
     },
     "execution_count": 12,
     "metadata": {},
     "output_type": "execute_result"
    }
   ],
   "source": [
    "Tuple11 = tuple(range(1,11))\n",
    "\n",
    "New_list = [] ## empty list where even elements are added\n",
    "\n",
    "for i in Tuple11:\n",
    "    if i % 2 == 0:\n",
    "        New_list.append(i)\n",
    "        \n",
    "New_Tuple = tuple(New_list)\n",
    "\n",
    "New_Tuple\n",
    "\n",
    "        \n"
   ]
  },
  {
   "cell_type": "code",
   "execution_count": 13,
   "id": "2aefd21b-eb9d-4dc2-bfab-a167152e675e",
   "metadata": {},
   "outputs": [],
   "source": [
    "## Create a tuple of odd numbers from 1 to 10."
   ]
  },
  {
   "cell_type": "code",
   "execution_count": 15,
   "id": "ea20819a-bc99-4126-8917-7af4d9f6addf",
   "metadata": {},
   "outputs": [
    {
     "data": {
      "text/plain": [
       "(1, 3, 5, 7, 9)"
      ]
     },
     "execution_count": 15,
     "metadata": {},
     "output_type": "execute_result"
    }
   ],
   "source": [
    "Tuple11 = tuple(range(1,11))\n",
    "\n",
    "New_list = [] ## empty list where even elements are added\n",
    "\n",
    "for i in Tuple11:\n",
    "    if i % 2 != 0:\n",
    "        New_list.append(i)\n",
    "        \n",
    "New_Tuple = tuple(New_list)\n",
    "\n",
    "New_Tuple\n"
   ]
  },
  {
   "cell_type": "code",
   "execution_count": 16,
   "id": "4382d6e4-f705-4242-adde-c38b9327a92f",
   "metadata": {},
   "outputs": [],
   "source": [
    "## Concatenate two tuples"
   ]
  },
  {
   "cell_type": "code",
   "execution_count": 17,
   "id": "5a2dab5a-5418-4c4d-85ff-24da8b7f0a6a",
   "metadata": {},
   "outputs": [
    {
     "data": {
      "text/plain": [
       "(2, 3, 45, 5, 67, 34, 23, 56, 78)"
      ]
     },
     "execution_count": 17,
     "metadata": {},
     "output_type": "execute_result"
    }
   ],
   "source": [
    "t1 = (2,3,45,5,67)\n",
    "t2 = (34,23,56,78)\n",
    "\n",
    "New_Tuple = t1 + t2\n",
    "New_Tuple"
   ]
  },
  {
   "cell_type": "code",
   "execution_count": 18,
   "id": "0ed96dd5-52d3-474f-940c-ce407368eedb",
   "metadata": {},
   "outputs": [],
   "source": [
    "## Repeat a tuple three times"
   ]
  },
  {
   "cell_type": "code",
   "execution_count": 23,
   "id": "6072704c-43eb-459e-9298-9555bd9307db",
   "metadata": {},
   "outputs": [
    {
     "data": {
      "text/plain": [
       "(2, 3, 4, 45, 6, 7, 2, 3, 4, 45, 6, 7, 2, 3, 4, 45, 6, 7)"
      ]
     },
     "execution_count": 23,
     "metadata": {},
     "output_type": "execute_result"
    }
   ],
   "source": [
    "t3 = (2,3,4,45,6,7)\n",
    "t3*3"
   ]
  },
  {
   "cell_type": "code",
   "execution_count": 24,
   "id": "0bc13a37-9828-40d0-aac4-affb90eaa01c",
   "metadata": {},
   "outputs": [],
   "source": [
    "## Check if a tuple is empty"
   ]
  },
  {
   "cell_type": "code",
   "execution_count": 3,
   "id": "590327ce-60e5-4dd0-8fd5-4b184a891704",
   "metadata": {},
   "outputs": [
    {
     "name": "stdout",
     "output_type": "stream",
     "text": [
      "tuple is not empty\n"
     ]
    }
   ],
   "source": [
    "t3 = (1,2,3)\n",
    "Length = len(t3)\n",
    "\n",
    "if Length == 0:\n",
    "    print(\"tuple is empty\")\n",
    "else:\n",
    "    print(\"tuple is not empty\")\n",
    "    "
   ]
  },
  {
   "cell_type": "code",
   "execution_count": 4,
   "id": "a69ffc8d-b0b2-4508-b565-9bd3070f332b",
   "metadata": {},
   "outputs": [],
   "source": [
    "## Create a nested tuple\n"
   ]
  },
  {
   "cell_type": "code",
   "execution_count": 5,
   "id": "c2a0a8dc-a550-4c7f-a7d6-65f54486462b",
   "metadata": {},
   "outputs": [],
   "source": [
    "data = ((\"Amit\", \"data science\", \"python\"), (\"Nik\", \"Data Science\", \"R\"))"
   ]
  },
  {
   "cell_type": "code",
   "execution_count": 6,
   "id": "ee70c65a-a1b0-45e2-a18b-771fa6715b48",
   "metadata": {},
   "outputs": [
    {
     "data": {
      "text/plain": [
       "(('Amit', 'data science', 'python'), ('Nik', 'Data Science', 'R'))"
      ]
     },
     "execution_count": 6,
     "metadata": {},
     "output_type": "execute_result"
    }
   ],
   "source": [
    "data"
   ]
  },
  {
   "cell_type": "code",
   "execution_count": 9,
   "id": "e0d9b23f-84bb-48b6-aef7-c759437e4708",
   "metadata": {},
   "outputs": [],
   "source": [
    "## Access the first element of a nested tuple"
   ]
  },
  {
   "cell_type": "code",
   "execution_count": 11,
   "id": "168a1a8e-c8d9-4ced-9ca6-4651e3779cda",
   "metadata": {},
   "outputs": [
    {
     "data": {
      "text/plain": [
       "('Amit', 'data science', 'python')"
      ]
     },
     "execution_count": 11,
     "metadata": {},
     "output_type": "execute_result"
    }
   ],
   "source": [
    "data = ((\"Amit\", \"data science\", \"python\"), (\"Nik\", \"Data Science\", \"R\"))\n",
    "data[0]"
   ]
  },
  {
   "cell_type": "code",
   "execution_count": 12,
   "id": "3fbec332-c19d-4bbf-b18b-6f250dc481c6",
   "metadata": {},
   "outputs": [],
   "source": [
    "## Create a tuple with a single element"
   ]
  },
  {
   "cell_type": "code",
   "execution_count": 13,
   "id": "f9c51184-14fc-4e38-8a2f-055ce675a995",
   "metadata": {},
   "outputs": [],
   "source": [
    "t4 = (1)"
   ]
  },
  {
   "cell_type": "code",
   "execution_count": 14,
   "id": "85e5c71a-dd7a-4ae8-b0ae-8292d4233ed4",
   "metadata": {},
   "outputs": [
    {
     "data": {
      "text/plain": [
       "1"
      ]
     },
     "execution_count": 14,
     "metadata": {},
     "output_type": "execute_result"
    }
   ],
   "source": [
    "t4"
   ]
  },
  {
   "cell_type": "code",
   "execution_count": 15,
   "id": "1d933a29-5308-46a2-a4b2-d70f9e7c0209",
   "metadata": {},
   "outputs": [],
   "source": [
    "## Compare two tuples"
   ]
  },
  {
   "cell_type": "code",
   "execution_count": 18,
   "id": "5e951c1c-91b7-491c-9519-ebd1975fb4f9",
   "metadata": {},
   "outputs": [
    {
     "name": "stdout",
     "output_type": "stream",
     "text": [
      "both tuples are of equal size\n"
     ]
    }
   ],
   "source": [
    "t5 = (12,45,3,5,6)\n",
    "t6 = (2,3,54,3,4)\n",
    "\n",
    "if len(t5) == len(t6):\n",
    "    print(\"both tuples are of equal size\")\n",
    "else:\n",
    "    print(\"Tuples are of unequal size\")\n"
   ]
  },
  {
   "cell_type": "code",
   "execution_count": 19,
   "id": "30874fce-7f14-4df7-9f1a-0474937c870b",
   "metadata": {},
   "outputs": [],
   "source": [
    "## Delete a tuple"
   ]
  },
  {
   "cell_type": "code",
   "execution_count": 24,
   "id": "729fdf42-14e6-4663-abee-52548ca4566c",
   "metadata": {},
   "outputs": [],
   "source": [
    "t7 = (2,3,4,4)\n",
    "\n",
    "del t7\n",
    "\n"
   ]
  },
  {
   "cell_type": "code",
   "execution_count": 26,
   "id": "a9c8d7d2-4c72-4443-a6b7-fdc89f962d8a",
   "metadata": {},
   "outputs": [],
   "source": [
    "## Slice a tuple"
   ]
  },
  {
   "cell_type": "code",
   "execution_count": 31,
   "id": "725dc7da-2f80-45e1-83b5-5bfc0485e93f",
   "metadata": {},
   "outputs": [
    {
     "data": {
      "text/plain": [
       "(45, 56)"
      ]
     },
     "execution_count": 31,
     "metadata": {},
     "output_type": "execute_result"
    }
   ],
   "source": [
    "t8 = (23,45,56)\n",
    "t8[1:3]"
   ]
  },
  {
   "cell_type": "code",
   "execution_count": 32,
   "id": "dbdb6b40-585c-4a32-b29c-7611b47c9937",
   "metadata": {},
   "outputs": [],
   "source": [
    "## Find the maximum value in a tuple"
   ]
  },
  {
   "cell_type": "code",
   "execution_count": 33,
   "id": "65776230-0c25-45e4-9d6d-7e0d4bdfb17b",
   "metadata": {},
   "outputs": [
    {
     "data": {
      "text/plain": [
       "566"
      ]
     },
     "execution_count": 33,
     "metadata": {},
     "output_type": "execute_result"
    }
   ],
   "source": [
    "t9 = (33,34,566)\n",
    "max(t9)"
   ]
  },
  {
   "cell_type": "code",
   "execution_count": 34,
   "id": "67619e78-a382-4545-8137-ac829499df4e",
   "metadata": {},
   "outputs": [],
   "source": [
    "## Find the minimum value in a tuple"
   ]
  },
  {
   "cell_type": "code",
   "execution_count": 35,
   "id": "f3ccd6ee-942e-4696-a468-ff40d9951bd7",
   "metadata": {},
   "outputs": [
    {
     "data": {
      "text/plain": [
       "33"
      ]
     },
     "execution_count": 35,
     "metadata": {},
     "output_type": "execute_result"
    }
   ],
   "source": [
    "t9 = (33,34,566)\n",
    "min(t9)"
   ]
  },
  {
   "cell_type": "code",
   "execution_count": 36,
   "id": "d6076d0f-f771-4e34-8cae-7cd977e2b330",
   "metadata": {},
   "outputs": [],
   "source": [
    "## Convert a string to a tuple of characters"
   ]
  },
  {
   "cell_type": "code",
   "execution_count": 38,
   "id": "88ac9bd3-7e21-4452-b6d5-7623c197ce02",
   "metadata": {},
   "outputs": [
    {
     "name": "stdin",
     "output_type": "stream",
     "text": [
      "Enter the string Amit Bahedia\n"
     ]
    },
    {
     "name": "stdout",
     "output_type": "stream",
     "text": [
      "The entered string is  Amit Bahedia\n",
      "The New Tuple is ('A', 'm', 'i', 't', ' ', 'B', 'a', 'h', 'e', 'd', 'i', 'a')\n"
     ]
    }
   ],
   "source": [
    "String_Input = input(\"Enter the string\")\n",
    "print(\"The entered string is \", String_Input)\n",
    "New_Tuple = tuple(String_Input)\n",
    "print(\"The New Tuple is\", New_Tuple)\n"
   ]
  },
  {
   "cell_type": "code",
   "execution_count": 39,
   "id": "0745b333-a887-4f6f-8042-92211013ce0d",
   "metadata": {},
   "outputs": [],
   "source": [
    "## Convert a tuple of characters to a string"
   ]
  },
  {
   "cell_type": "code",
   "execution_count": 51,
   "id": "ca806d26-b3ac-4c0f-b19c-1982deca869d",
   "metadata": {},
   "outputs": [
    {
     "data": {
      "text/plain": [
       "'I am fine'"
      ]
     },
     "execution_count": 51,
     "metadata": {},
     "output_type": "execute_result"
    }
   ],
   "source": [
    "Tuple_input = ('I', 'am', 'fine')\n",
    "\n",
    "res = ' '.join(Tuple_input)\n",
    "\n",
    "Final_String = str(res)\n",
    "Final_String\n"
   ]
  },
  {
   "cell_type": "code",
   "execution_count": 52,
   "id": "34986789-16d7-49bd-93dd-f2b70955303a",
   "metadata": {},
   "outputs": [],
   "source": [
    "##Create a tuple from multiple data types.\n"
   ]
  },
  {
   "cell_type": "code",
   "execution_count": 53,
   "id": "40003584-9260-4fa9-b067-7e00a69d1c08",
   "metadata": {},
   "outputs": [],
   "source": [
    "Mutiple_Data_Tuple = ('Amit bahedia', 33, 'Research Analyst', 5.7, True)"
   ]
  },
  {
   "cell_type": "code",
   "execution_count": 54,
   "id": "351cbc36-3f96-41a9-a235-4a7fec6173f6",
   "metadata": {},
   "outputs": [
    {
     "data": {
      "text/plain": [
       "('Amit bahedia', 33, 'Research Analyst', 5.7, True)"
      ]
     },
     "execution_count": 54,
     "metadata": {},
     "output_type": "execute_result"
    }
   ],
   "source": [
    "Mutiple_Data_Tuple"
   ]
  },
  {
   "cell_type": "code",
   "execution_count": 55,
   "id": "a972515d-98d0-4ca2-9e2b-15a42758da44",
   "metadata": {},
   "outputs": [],
   "source": [
    "## Check if two tuples are identical"
   ]
  },
  {
   "cell_type": "code",
   "execution_count": 57,
   "id": "170541ef-1d26-46ac-98d8-b73c2005bcf3",
   "metadata": {},
   "outputs": [
    {
     "name": "stdout",
     "output_type": "stream",
     "text": [
      "Tuples are not identical\n"
     ]
    }
   ],
   "source": [
    "tuple1 = (1, 2, 3)\n",
    "tuple2 = (1, 2, 3,3,4)\n",
    "\n",
    "if tuple1 == tuple2:\n",
    "    print(\"Tuples are identical\")\n",
    "else:\n",
    "    print(\"Tuples are not identical\")"
   ]
  },
  {
   "cell_type": "code",
   "execution_count": 58,
   "id": "51abec62-0742-4ef4-b352-65f96ca19930",
   "metadata": {},
   "outputs": [],
   "source": [
    "## Sort the elements of a tuple."
   ]
  },
  {
   "cell_type": "code",
   "execution_count": 63,
   "id": "539afaf5-cc86-46c0-b369-e251da91ce37",
   "metadata": {},
   "outputs": [
    {
     "data": {
      "text/plain": [
       "(56, 23, 23, 23, 12, 1)"
      ]
     },
     "execution_count": 63,
     "metadata": {},
     "output_type": "execute_result"
    }
   ],
   "source": [
    "tuple3 = (23,1,23,56,12,23)\n",
    "Converted_List = list(tuple3)\n",
    "Converted_List.sort(reverse = True) ## sorting in desending oder\n",
    "Sorted_Tuple = tuple(Converted_List)\n",
    "Sorted_Tuple                  \n"
   ]
  },
  {
   "cell_type": "code",
   "execution_count": 64,
   "id": "ba204d26-866d-4928-981f-f644224926a2",
   "metadata": {},
   "outputs": [],
   "source": [
    "## Convert a tuple of integers to a tuple of strings"
   ]
  },
  {
   "cell_type": "code",
   "execution_count": 71,
   "id": "398ee96b-f985-4e1e-9e56-c4f2b58c3449",
   "metadata": {},
   "outputs": [
    {
     "name": "stdout",
     "output_type": "stream",
     "text": [
      "('1',)\n",
      "('2',)\n",
      "('3',)\n",
      "('3', ' ', '4')\n"
     ]
    }
   ],
   "source": [
    "tuple4 = (1,2,3,34)\n",
    "res = \" \".join(str(i))\n",
    "print(tuple(res))\n",
    "\n",
    "\n",
    "\n"
   ]
  },
  {
   "cell_type": "code",
   "execution_count": 72,
   "id": "34d3ad84-1486-48ef-b557-4f6d179871a0",
   "metadata": {},
   "outputs": [],
   "source": []
  },
  {
   "cell_type": "code",
   "execution_count": 77,
   "id": "0241587d-89a7-4504-8c85-b8be3d91ba01",
   "metadata": {},
   "outputs": [
    {
     "data": {
      "text/plain": [
       "(1, 2, 3, 4, 5)"
      ]
     },
     "execution_count": 77,
     "metadata": {},
     "output_type": "execute_result"
    }
   ],
   "source": [
    "First_Five = tuple(range(1,6))\n",
    "First_Five"
   ]
  },
  {
   "cell_type": "code",
   "execution_count": 78,
   "id": "dab2efb2-581d-4617-817f-7f8bd755c4a4",
   "metadata": {},
   "outputs": [],
   "source": [
    "## Create a tuple of the first 5 prime numbers"
   ]
  },
  {
   "cell_type": "code",
   "execution_count": 79,
   "id": "3600ec8d-9289-4ab2-858e-de53b4d47a33",
   "metadata": {},
   "outputs": [
    {
     "name": "stdout",
     "output_type": "stream",
     "text": [
      "(2, 3, 5)\n"
     ]
    }
   ],
   "source": [
    "Prime_tuple = []\n",
    "for i in range(2, 6):\n",
    "   \n",
    "\n",
    "    else:\n",
    "        Prime_tuple.append(i)\n",
    "\n",
    "print(tuple(Prime_tuple))"
   ]
  },
  {
   "cell_type": "code",
   "execution_count": 80,
   "id": "509ca038-13eb-4e5a-ae1d-5ebc857860da",
   "metadata": {},
   "outputs": [],
   "source": [
    "## Check if a tuple is a palindrome"
   ]
  },
  {
   "cell_type": "code",
   "execution_count": 84,
   "id": "a5002981-d30b-4908-bc3b-69f526471c97",
   "metadata": {},
   "outputs": [
    {
     "name": "stdout",
     "output_type": "stream",
     "text": [
      "tuple is a palindrome\n"
     ]
    }
   ],
   "source": [
    "Tuple = (1,2,1)\n",
    "\n",
    "Reverse_Tuple = Tuple[::-1]\n",
    "Reverse_Tuple\n",
    "\n",
    "if Reverse_Tuple == Tuple :\n",
    "    print(\"tuple is a palindrome\")\n",
    "else:\n",
    "    print(\"tuple is not palindrone\")\n",
    "\n",
    "\n",
    "\n"
   ]
  },
  {
   "cell_type": "code",
   "execution_count": 85,
   "id": "d79be925-979d-41dc-b3a1-5b0718379a48",
   "metadata": {},
   "outputs": [],
   "source": [
    "## Create a tuple of squares of numbers from 1 to 5."
   ]
  },
  {
   "cell_type": "code",
   "execution_count": 4,
   "id": "f9dbc2f5-e6eb-4a79-b7ef-5f4b5bccc65a",
   "metadata": {},
   "outputs": [
    {
     "name": "stdout",
     "output_type": "stream",
     "text": [
      "The tuple of squares of numbers from 1 to 5 are (1, 4, 9, 16, 25)\n"
     ]
    }
   ],
   "source": [
    "Tuple6 = tuple(range(1,6))\n",
    "\n",
    "listnew = []\n",
    "\n",
    "for i in Tuple6:\n",
    "    listnew.append(i**2)\n",
    "print(\"The tuple of squares of numbers from 1 to 5 is\", tuple(listnew))\n",
    "    "
   ]
  },
  {
   "cell_type": "code",
   "execution_count": 5,
   "id": "3ed8d841-4091-4fe6-8fc7-cb6b8a332e0b",
   "metadata": {},
   "outputs": [],
   "source": [
    "## Filter out all even numbers from a tuple."
   ]
  },
  {
   "cell_type": "code",
   "execution_count": 6,
   "id": "706a3917-eff1-47af-81c1-597e36302875",
   "metadata": {},
   "outputs": [
    {
     "name": "stdout",
     "output_type": "stream",
     "text": [
      "12\n",
      "46\n"
     ]
    }
   ],
   "source": [
    "Tuple7 = (12,23,67,45,46)\n",
    "\n",
    "for i in Tuple7:\n",
    "    if i % 2 == 0:\n",
    "        print(i)\n",
    "        "
   ]
  },
  {
   "cell_type": "code",
   "execution_count": 7,
   "id": "5591fa20-a39f-4db4-95a2-141d33fdb89d",
   "metadata": {},
   "outputs": [],
   "source": [
    "## Multiply all elements in a tuple by 2."
   ]
  },
  {
   "cell_type": "code",
   "execution_count": 11,
   "id": "f36e4222-6645-4d7e-b565-3e4cc93cae70",
   "metadata": {},
   "outputs": [
    {
     "name": "stdout",
     "output_type": "stream",
     "text": [
      "New elements is tuple are (24, 46, 134, 90, 92)\n"
     ]
    }
   ],
   "source": [
    "Tuple7 = (12,23,67,45,46)\n",
    "Listnew2 = []\n",
    "\n",
    "for i in Tuple7:\n",
    "    Listnew2.append(i*2)\n",
    "print(\"New elements is tuple are\", tuple(Listnew2))\n",
    "\n"
   ]
  },
  {
   "cell_type": "code",
   "execution_count": 12,
   "id": "27b5ce6b-4d9a-4e14-8e26-4357faecbb4d",
   "metadata": {},
   "outputs": [],
   "source": [
    "## Create a tuple of random numbers"
   ]
  },
  {
   "cell_type": "code",
   "execution_count": 19,
   "id": "ce7f69d0-33f4-44a5-9675-712c478291ae",
   "metadata": {},
   "outputs": [
    {
     "name": "stdout",
     "output_type": "stream",
     "text": [
      "(96, 65, 34, 25, 65, 44, 70, 1, 10)\n"
     ]
    }
   ],
   "source": [
    "import random ## random package will be imported\n",
    "\n",
    "Tuple8 = tuple(random.randint(1,100) for _ in range(1,10)) ## placeholder variable is used withih loop\n",
    "print(Tuple8)\n"
   ]
  },
  {
   "cell_type": "code",
   "execution_count": 20,
   "id": "79ac8b3d-08c0-44c5-aff3-5f2f464c1611",
   "metadata": {},
   "outputs": [],
   "source": [
    "## Check if a tuple is sorted"
   ]
  },
  {
   "cell_type": "code",
   "execution_count": 16,
   "id": "4105b088-2b8e-40f6-87eb-5ec452d42b44",
   "metadata": {},
   "outputs": [
    {
     "name": "stdout",
     "output_type": "stream",
     "text": [
      "(12, 23, 45, 67, 89)\n",
      "Array is sorted\n"
     ]
    }
   ],
   "source": [
    "Tuple8 = (12,23,45,67,89)\n",
    "\n",
    "New_Tuple = tuple(sorted(Tuple8))\n",
    "\n",
    "print(New_Tuple)\n",
    "\n",
    "if Tuple8 == New_Tuple:\n",
    "    print(\"Array is sorted\")\n",
    "else:\n",
    "    print(\"Array is not sorted\")\n",
    "    \n",
    "        \n",
    "\n"
   ]
  },
  {
   "cell_type": "code",
   "execution_count": 17,
   "id": "c69c172b-b92a-4ffa-b9ad-e5b943e9aa66",
   "metadata": {},
   "outputs": [],
   "source": [
    "## Rotate a tuple to the left by `n` positions"
   ]
  },
  {
   "cell_type": "code",
   "execution_count": 1,
   "id": "1ce7e839-8828-463c-b32a-b4b2017c8514",
   "metadata": {},
   "outputs": [
    {
     "data": {
      "text/plain": [
       "(34, 5, 5, 1, 2)"
      ]
     },
     "execution_count": 1,
     "metadata": {},
     "output_type": "execute_result"
    }
   ],
   "source": [
    "def rotate_tuple_left(tup, n):\n",
    "    \n",
    "    \n",
    "    n = n % len(tup)\n",
    "    return tup[n:] + tup[:n]\n",
    "\n",
    "tup = (1,2,34,5,5)\n",
    "rotate_tuple_left(tup, 2)"
   ]
  },
  {
   "cell_type": "code",
   "execution_count": 2,
   "id": "45ac9a2c-36e7-4416-a93c-8bd091310425",
   "metadata": {},
   "outputs": [],
   "source": [
    "## Rotate a tuple to the right by `n` positions"
   ]
  },
  {
   "cell_type": "code",
   "execution_count": 9,
   "id": "0e6c5d56-22b4-432d-b0a0-6229ac934de6",
   "metadata": {},
   "outputs": [
    {
     "data": {
      "text/plain": [
       "(2, 45, 1, 2)"
      ]
     },
     "execution_count": 9,
     "metadata": {},
     "output_type": "execute_result"
    }
   ],
   "source": [
    "def rotate_tuple_right(tup, n):\n",
    "    \n",
    "    n = n % len(tup)\n",
    "    return tup[-n:] + tup[:-n]\n",
    "\n",
    "tup = (1,2,2,45)\n",
    "\n",
    "rotate_tuple_right(tup, 2)\n",
    "    \n",
    "     "
   ]
  },
  {
   "cell_type": "code",
   "execution_count": 10,
   "id": "a7ef5ddd-01ea-492e-92c9-a3605cdc8956",
   "metadata": {},
   "outputs": [],
   "source": [
    "## Create a tuple of the first 5 Fibonacci numbers."
   ]
  },
  {
   "cell_type": "code",
   "execution_count": 17,
   "id": "88cbfe33-5c80-4c57-9a7e-f3be0386e535",
   "metadata": {},
   "outputs": [
    {
     "name": "stdout",
     "output_type": "stream",
     "text": [
      "(0, 1, 1, 2, 3)\n"
     ]
    }
   ],
   "source": [
    "Fibonacci_list = [0] ## list is created with one element as zero\n",
    "\n",
    "a, b = 0, 1\n",
    "\n",
    "for i in range(1,5):\n",
    "    a, b = b , a+b\n",
    "    Fibonacci_list.append(a)\n",
    "\n",
    "print(tuple(Fibonacci_list)) ## Converted the fibonacci list into tuple\n"
   ]
  },
  {
   "cell_type": "code",
   "execution_count": 16,
   "id": "358239d1-ab12-432d-a877-3d2bd9b36b8b",
   "metadata": {},
   "outputs": [],
   "source": [
    "## Create a tuple from user input"
   ]
  },
  {
   "cell_type": "code",
   "execution_count": 22,
   "id": "83d7ca7a-323c-4739-856b-5aef06e16581",
   "metadata": {},
   "outputs": [
    {
     "name": "stdin",
     "output_type": "stream",
     "text": [
      "Enter the string 123456\n"
     ]
    },
    {
     "name": "stdout",
     "output_type": "stream",
     "text": [
      "the input string is  123456\n",
      "('1', '2', '3', '4', '5', '6')\n"
     ]
    }
   ],
   "source": [
    "User_Input = input(\"Enter the User Input\")\n",
    "\n",
    "print(\"the input string is \", Input_String)\n",
    "\n",
    "res = \"\".join(Input_String )\n",
    "\n",
    "Final_Tuple = tuple(res)\n",
    "\n",
    "print(Final_Tuple)\n"
   ]
  },
  {
   "cell_type": "code",
   "execution_count": 1,
   "id": "628cb75c-b1b2-4b5d-b6ed-0b79ec9aefd4",
   "metadata": {},
   "outputs": [],
   "source": [
    "## Creae a tuple of the first `n` powers of 2"
   ]
  },
  {
   "cell_type": "code",
   "execution_count": 3,
   "id": "e5d16389-0cce-4464-97dd-5f9323c95829",
   "metadata": {},
   "outputs": [
    {
     "data": {
      "text/plain": [
       "(1, 4, 9, 16, 25, 36, 49, 64, 81, 100)"
      ]
     },
     "execution_count": 3,
     "metadata": {},
     "output_type": "execute_result"
    }
   ],
   "source": [
    "Tuple_power = tuple(i**2 for i in range(1,11))\n",
    "Tuple_power   \n"
   ]
  },
  {
   "cell_type": "code",
   "execution_count": 4,
   "id": "0067d46f-cac6-48da-9e72-2a5b962625b6",
   "metadata": {},
   "outputs": [],
   "source": [
    "## Find the shortest string in a tuple of strings"
   ]
  },
  {
   "cell_type": "code",
   "execution_count": 5,
   "id": "36e06045-a96f-4c5b-9470-ab13cdb477f8",
   "metadata": {},
   "outputs": [
    {
     "data": {
      "text/plain": [
       "'Amit'"
      ]
     },
     "execution_count": 5,
     "metadata": {},
     "output_type": "execute_result"
    }
   ],
   "source": [
    "tup = (\"Amit\", \"bahedia\", \"Nikshit\")\n",
    "\n",
    "Shortest_String = min(tup, key = len)\n",
    "\n",
    "Shortest_String\n"
   ]
  },
  {
   "cell_type": "code",
   "execution_count": 6,
   "id": "8b457832-e231-4d79-9b1e-be5ad8e2b0f9",
   "metadata": {},
   "outputs": [],
   "source": [
    "## Find the longest string in a tuple of strings"
   ]
  },
  {
   "cell_type": "code",
   "execution_count": 7,
   "id": "f472c2d4-397b-4527-b05e-b47743b900de",
   "metadata": {},
   "outputs": [
    {
     "data": {
      "text/plain": [
       "'bahedia'"
      ]
     },
     "execution_count": 7,
     "metadata": {},
     "output_type": "execute_result"
    }
   ],
   "source": [
    "tup = (\"Amit\", \"bahedia\", \"Nikshit\")\n",
    "\n",
    "Shortest_String = max(tup, key = len)\n",
    "\n",
    "Shortest_String"
   ]
  },
  {
   "cell_type": "code",
   "execution_count": 8,
   "id": "e9ff2ae9-1e44-40bb-84fc-b1c0908b2611",
   "metadata": {},
   "outputs": [],
   "source": [
    "## Create a tuple of the first `n` triangular numbers"
   ]
  },
  {
   "cell_type": "code",
   "execution_count": 2,
   "id": "3d5e4421-4fae-4ae5-b829-0196256f6198",
   "metadata": {},
   "outputs": [
    {
     "name": "stdin",
     "output_type": "stream",
     "text": [
      "Enter the triangular number till which tuple will created 8\n"
     ]
    },
    {
     "name": "stdout",
     "output_type": "stream",
     "text": [
      "(1, 3, 6, 10, 15, 21, 28, 36)\n"
     ]
    }
   ],
   "source": [
    "num = int(input(\"Enter the triangular number till which tuple will created\"))\n",
    "\n",
    "Temporary_List = []\n",
    "\n",
    "for i in range(1, num + 1):\n",
    "    Temporary_List.append(i*(i+1)//2)\n",
    "print(tuple(Temporary_List)) ## converting the list into tuple"
   ]
  },
  {
   "cell_type": "code",
   "execution_count": null,
   "id": "5e7e5365-f0f1-404f-9e3b-f59ed86a6b1d",
   "metadata": {},
   "outputs": [],
   "source": [
    "## Check if a tuple contains another tuple as a subsequence"
   ]
  },
  {
   "cell_type": "code",
   "execution_count": 5,
   "id": "9f496a24-74da-4e76-9b0d-85ac2641dbb2",
   "metadata": {},
   "outputs": [
    {
     "name": "stdout",
     "output_type": "stream",
     "text": [
      "Tuple does not contains tuple as a subsequence\n"
     ]
    }
   ],
   "source": [
    "Main_Tuple = (1,2,3, (4,5,6), (7,8,9))\n",
    "\n",
    "Subset_Tuple = (10,11,12)\n",
    "\n",
    "flag = 0\n",
    "\n",
    "if(all(i in Main_Tuple for i in Subset_Tuple)):\n",
    "    \n",
    "    flag = 1\n",
    "\n",
    "if(flag):\n",
    "    print(\"Tuple contains tuple as a subsequence\")\n",
    "else:\n",
    "    print(\"Tuple does not contains tuple as a subsequence\")\n",
    "\n"
   ]
  },
  {
   "cell_type": "code",
   "execution_count": 6,
   "id": "35293148-9e03-417c-8f56-0e768fe572e8",
   "metadata": {},
   "outputs": [],
   "source": [
    "## Create a tuple of alternating 1s and 0s of length `n`."
   ]
  },
  {
   "cell_type": "code",
   "execution_count": 18,
   "id": "5ee61487-fb57-4f20-8157-af3ee6b26423",
   "metadata": {},
   "outputs": [
    {
     "name": "stdin",
     "output_type": "stream",
     "text": [
      "Enter the number till which we vant to create tuple 12\n"
     ]
    },
    {
     "data": {
      "text/plain": [
       "(1, 0, 1, 0, 1, 0, 1, 0, 1, 0, 1, 0)"
      ]
     },
     "execution_count": 18,
     "metadata": {},
     "output_type": "execute_result"
    }
   ],
   "source": [
    "n = int(input(\"Enter the number till which we vant to create tuple\"))\n",
    "Final_Tuple = tuple(1 if i % 2 == 0 else 0 for i in range(n))\n",
    "Final_Tuple          "
   ]
  }
 ],
 "metadata": {
  "kernelspec": {
   "display_name": "Python 3 (ipykernel)",
   "language": "python",
   "name": "python3"
  },
  "language_info": {
   "codemirror_mode": {
    "name": "ipython",
    "version": 3
   },
   "file_extension": ".py",
   "mimetype": "text/x-python",
   "name": "python",
   "nbconvert_exporter": "python",
   "pygments_lexer": "ipython3",
   "version": "3.10.8"
  }
 },
 "nbformat": 4,
 "nbformat_minor": 5
}
